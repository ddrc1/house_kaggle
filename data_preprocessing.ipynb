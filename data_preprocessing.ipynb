{
 "cells": [
  {
   "cell_type": "markdown",
   "id": "3715be87-e6df-4eaa-9e18-a0008c9e70f9",
   "metadata": {},
   "source": [
    "## Imports"
   ]
  },
  {
   "cell_type": "code",
   "execution_count": 2,
   "id": "8fc94077-e473-4308-9743-411d43f2fe3c",
   "metadata": {
    "tags": []
   },
   "outputs": [],
   "source": [
    "from pyspark.sql import SparkSession\n",
    "import pyspark.sql.functions as func\n",
    "from pyspark.sql.types import StringType, IntegerType\n",
    "import pandas\n",
    "import seaborn as sns\n",
    "import matplotlib.pyplot as plt\n",
    "import numpy as np\n",
    "import os"
   ]
  },
  {
   "cell_type": "markdown",
   "id": "85460ece-0ef8-4b54-8d2a-4dcf288cc7c9",
   "metadata": {},
   "source": [
    "## Starting spark session"
   ]
  },
  {
   "cell_type": "code",
   "execution_count": 3,
   "id": "fe8e137c-0382-41c5-928c-b75e7d3d9f78",
   "metadata": {
    "tags": []
   },
   "outputs": [
    {
     "name": "stderr",
     "output_type": "stream",
     "text": [
      "23/05/30 15:56:43 WARN Utils: Your hostname, DESKTOP-21T818B resolves to a loopback address: 127.0.1.1; using 172.18.5.97 instead (on interface eth0)\n",
      "23/05/30 15:56:43 WARN Utils: Set SPARK_LOCAL_IP if you need to bind to another address\n",
      "Setting default log level to \"WARN\".\n",
      "To adjust logging level use sc.setLogLevel(newLevel). For SparkR, use setLogLevel(newLevel).\n",
      "23/05/30 15:56:45 WARN NativeCodeLoader: Unable to load native-hadoop library for your platform... using builtin-java classes where applicable\n",
      "23/05/30 15:56:45 WARN Utils: Service 'SparkUI' could not bind on port 4040. Attempting port 4041.\n"
     ]
    },
    {
     "data": {
      "text/html": [
       "\n",
       "            <div>\n",
       "                <p><b>SparkSession - in-memory</b></p>\n",
       "                \n",
       "        <div>\n",
       "            <p><b>SparkContext</b></p>\n",
       "\n",
       "            <p><a href=\"http://172.18.5.97:4041\">Spark UI</a></p>\n",
       "\n",
       "            <dl>\n",
       "              <dt>Version</dt>\n",
       "                <dd><code>v3.4.0</code></dd>\n",
       "              <dt>Master</dt>\n",
       "                <dd><code>local[*]</code></dd>\n",
       "              <dt>AppName</dt>\n",
       "                <dd><code>House_analysis</code></dd>\n",
       "            </dl>\n",
       "        </div>\n",
       "        \n",
       "            </div>\n",
       "        "
      ],
      "text/plain": [
       "<pyspark.sql.session.SparkSession at 0x7f27254a8f50>"
      ]
     },
     "execution_count": 3,
     "metadata": {},
     "output_type": "execute_result"
    }
   ],
   "source": [
    "spark = SparkSession.builder.config(\"spark.executor.memory\", \"4g\").appName('House_analysis').getOrCreate()#.master('spark://192.168.1.85:7077')\n",
    "spark"
   ]
  },
  {
   "cell_type": "markdown",
   "id": "e8e262a1-08d2-49dd-be56-d9f63e72ec73",
   "metadata": {},
   "source": [
    "## Data load"
   ]
  },
  {
   "cell_type": "code",
   "execution_count": 6,
   "id": "2be88af9-99b2-47bb-8369-e3b815a30a35",
   "metadata": {
    "tags": []
   },
   "outputs": [
    {
     "name": "stderr",
     "output_type": "stream",
     "text": [
      "23/05/30 15:57:09 WARN package: Truncated the string representation of a plan since it was too large. This behavior can be adjusted by setting 'spark.sql.debug.maxToStringFields'.\n"
     ]
    },
    {
     "data": {
      "text/html": [
       "<div>\n",
       "<style scoped>\n",
       "    .dataframe tbody tr th:only-of-type {\n",
       "        vertical-align: middle;\n",
       "    }\n",
       "\n",
       "    .dataframe tbody tr th {\n",
       "        vertical-align: top;\n",
       "    }\n",
       "\n",
       "    .dataframe thead th {\n",
       "        text-align: right;\n",
       "    }\n",
       "</style>\n",
       "<table border=\"1\" class=\"dataframe\">\n",
       "  <thead>\n",
       "    <tr style=\"text-align: right;\">\n",
       "      <th></th>\n",
       "      <th>Id</th>\n",
       "      <th>MSSubClass</th>\n",
       "      <th>MSZoning</th>\n",
       "      <th>LotFrontage</th>\n",
       "      <th>LotArea</th>\n",
       "      <th>Street</th>\n",
       "      <th>Alley</th>\n",
       "      <th>LotShape</th>\n",
       "      <th>LandContour</th>\n",
       "      <th>Utilities</th>\n",
       "      <th>...</th>\n",
       "      <th>PoolArea</th>\n",
       "      <th>PoolQC</th>\n",
       "      <th>Fence</th>\n",
       "      <th>MiscFeature</th>\n",
       "      <th>MiscVal</th>\n",
       "      <th>MoSold</th>\n",
       "      <th>YrSold</th>\n",
       "      <th>SaleType</th>\n",
       "      <th>SaleCondition</th>\n",
       "      <th>SalePrice</th>\n",
       "    </tr>\n",
       "  </thead>\n",
       "  <tbody>\n",
       "    <tr>\n",
       "      <th>0</th>\n",
       "      <td>1</td>\n",
       "      <td>60</td>\n",
       "      <td>RL</td>\n",
       "      <td>65</td>\n",
       "      <td>8450</td>\n",
       "      <td>Pave</td>\n",
       "      <td>NA</td>\n",
       "      <td>Reg</td>\n",
       "      <td>Lvl</td>\n",
       "      <td>AllPub</td>\n",
       "      <td>...</td>\n",
       "      <td>0</td>\n",
       "      <td>NA</td>\n",
       "      <td>NA</td>\n",
       "      <td>NA</td>\n",
       "      <td>0</td>\n",
       "      <td>2</td>\n",
       "      <td>2008</td>\n",
       "      <td>WD</td>\n",
       "      <td>Normal</td>\n",
       "      <td>208500</td>\n",
       "    </tr>\n",
       "    <tr>\n",
       "      <th>1</th>\n",
       "      <td>2</td>\n",
       "      <td>20</td>\n",
       "      <td>RL</td>\n",
       "      <td>80</td>\n",
       "      <td>9600</td>\n",
       "      <td>Pave</td>\n",
       "      <td>NA</td>\n",
       "      <td>Reg</td>\n",
       "      <td>Lvl</td>\n",
       "      <td>AllPub</td>\n",
       "      <td>...</td>\n",
       "      <td>0</td>\n",
       "      <td>NA</td>\n",
       "      <td>NA</td>\n",
       "      <td>NA</td>\n",
       "      <td>0</td>\n",
       "      <td>5</td>\n",
       "      <td>2007</td>\n",
       "      <td>WD</td>\n",
       "      <td>Normal</td>\n",
       "      <td>181500</td>\n",
       "    </tr>\n",
       "    <tr>\n",
       "      <th>2</th>\n",
       "      <td>3</td>\n",
       "      <td>60</td>\n",
       "      <td>RL</td>\n",
       "      <td>68</td>\n",
       "      <td>11250</td>\n",
       "      <td>Pave</td>\n",
       "      <td>NA</td>\n",
       "      <td>IR1</td>\n",
       "      <td>Lvl</td>\n",
       "      <td>AllPub</td>\n",
       "      <td>...</td>\n",
       "      <td>0</td>\n",
       "      <td>NA</td>\n",
       "      <td>NA</td>\n",
       "      <td>NA</td>\n",
       "      <td>0</td>\n",
       "      <td>9</td>\n",
       "      <td>2008</td>\n",
       "      <td>WD</td>\n",
       "      <td>Normal</td>\n",
       "      <td>223500</td>\n",
       "    </tr>\n",
       "    <tr>\n",
       "      <th>3</th>\n",
       "      <td>4</td>\n",
       "      <td>70</td>\n",
       "      <td>RL</td>\n",
       "      <td>60</td>\n",
       "      <td>9550</td>\n",
       "      <td>Pave</td>\n",
       "      <td>NA</td>\n",
       "      <td>IR1</td>\n",
       "      <td>Lvl</td>\n",
       "      <td>AllPub</td>\n",
       "      <td>...</td>\n",
       "      <td>0</td>\n",
       "      <td>NA</td>\n",
       "      <td>NA</td>\n",
       "      <td>NA</td>\n",
       "      <td>0</td>\n",
       "      <td>2</td>\n",
       "      <td>2006</td>\n",
       "      <td>WD</td>\n",
       "      <td>Abnorml</td>\n",
       "      <td>140000</td>\n",
       "    </tr>\n",
       "    <tr>\n",
       "      <th>4</th>\n",
       "      <td>5</td>\n",
       "      <td>60</td>\n",
       "      <td>RL</td>\n",
       "      <td>84</td>\n",
       "      <td>14260</td>\n",
       "      <td>Pave</td>\n",
       "      <td>NA</td>\n",
       "      <td>IR1</td>\n",
       "      <td>Lvl</td>\n",
       "      <td>AllPub</td>\n",
       "      <td>...</td>\n",
       "      <td>0</td>\n",
       "      <td>NA</td>\n",
       "      <td>NA</td>\n",
       "      <td>NA</td>\n",
       "      <td>0</td>\n",
       "      <td>12</td>\n",
       "      <td>2008</td>\n",
       "      <td>WD</td>\n",
       "      <td>Normal</td>\n",
       "      <td>250000</td>\n",
       "    </tr>\n",
       "    <tr>\n",
       "      <th>...</th>\n",
       "      <td>...</td>\n",
       "      <td>...</td>\n",
       "      <td>...</td>\n",
       "      <td>...</td>\n",
       "      <td>...</td>\n",
       "      <td>...</td>\n",
       "      <td>...</td>\n",
       "      <td>...</td>\n",
       "      <td>...</td>\n",
       "      <td>...</td>\n",
       "      <td>...</td>\n",
       "      <td>...</td>\n",
       "      <td>...</td>\n",
       "      <td>...</td>\n",
       "      <td>...</td>\n",
       "      <td>...</td>\n",
       "      <td>...</td>\n",
       "      <td>...</td>\n",
       "      <td>...</td>\n",
       "      <td>...</td>\n",
       "      <td>...</td>\n",
       "    </tr>\n",
       "    <tr>\n",
       "      <th>1455</th>\n",
       "      <td>1456</td>\n",
       "      <td>60</td>\n",
       "      <td>RL</td>\n",
       "      <td>62</td>\n",
       "      <td>7917</td>\n",
       "      <td>Pave</td>\n",
       "      <td>NA</td>\n",
       "      <td>Reg</td>\n",
       "      <td>Lvl</td>\n",
       "      <td>AllPub</td>\n",
       "      <td>...</td>\n",
       "      <td>0</td>\n",
       "      <td>NA</td>\n",
       "      <td>NA</td>\n",
       "      <td>NA</td>\n",
       "      <td>0</td>\n",
       "      <td>8</td>\n",
       "      <td>2007</td>\n",
       "      <td>WD</td>\n",
       "      <td>Normal</td>\n",
       "      <td>175000</td>\n",
       "    </tr>\n",
       "    <tr>\n",
       "      <th>1456</th>\n",
       "      <td>1457</td>\n",
       "      <td>20</td>\n",
       "      <td>RL</td>\n",
       "      <td>85</td>\n",
       "      <td>13175</td>\n",
       "      <td>Pave</td>\n",
       "      <td>NA</td>\n",
       "      <td>Reg</td>\n",
       "      <td>Lvl</td>\n",
       "      <td>AllPub</td>\n",
       "      <td>...</td>\n",
       "      <td>0</td>\n",
       "      <td>NA</td>\n",
       "      <td>MnPrv</td>\n",
       "      <td>NA</td>\n",
       "      <td>0</td>\n",
       "      <td>2</td>\n",
       "      <td>2010</td>\n",
       "      <td>WD</td>\n",
       "      <td>Normal</td>\n",
       "      <td>210000</td>\n",
       "    </tr>\n",
       "    <tr>\n",
       "      <th>1457</th>\n",
       "      <td>1458</td>\n",
       "      <td>70</td>\n",
       "      <td>RL</td>\n",
       "      <td>66</td>\n",
       "      <td>9042</td>\n",
       "      <td>Pave</td>\n",
       "      <td>NA</td>\n",
       "      <td>Reg</td>\n",
       "      <td>Lvl</td>\n",
       "      <td>AllPub</td>\n",
       "      <td>...</td>\n",
       "      <td>0</td>\n",
       "      <td>NA</td>\n",
       "      <td>GdPrv</td>\n",
       "      <td>Shed</td>\n",
       "      <td>2500</td>\n",
       "      <td>5</td>\n",
       "      <td>2010</td>\n",
       "      <td>WD</td>\n",
       "      <td>Normal</td>\n",
       "      <td>266500</td>\n",
       "    </tr>\n",
       "    <tr>\n",
       "      <th>1458</th>\n",
       "      <td>1459</td>\n",
       "      <td>20</td>\n",
       "      <td>RL</td>\n",
       "      <td>68</td>\n",
       "      <td>9717</td>\n",
       "      <td>Pave</td>\n",
       "      <td>NA</td>\n",
       "      <td>Reg</td>\n",
       "      <td>Lvl</td>\n",
       "      <td>AllPub</td>\n",
       "      <td>...</td>\n",
       "      <td>0</td>\n",
       "      <td>NA</td>\n",
       "      <td>NA</td>\n",
       "      <td>NA</td>\n",
       "      <td>0</td>\n",
       "      <td>4</td>\n",
       "      <td>2010</td>\n",
       "      <td>WD</td>\n",
       "      <td>Normal</td>\n",
       "      <td>142125</td>\n",
       "    </tr>\n",
       "    <tr>\n",
       "      <th>1459</th>\n",
       "      <td>1460</td>\n",
       "      <td>20</td>\n",
       "      <td>RL</td>\n",
       "      <td>75</td>\n",
       "      <td>9937</td>\n",
       "      <td>Pave</td>\n",
       "      <td>NA</td>\n",
       "      <td>Reg</td>\n",
       "      <td>Lvl</td>\n",
       "      <td>AllPub</td>\n",
       "      <td>...</td>\n",
       "      <td>0</td>\n",
       "      <td>NA</td>\n",
       "      <td>NA</td>\n",
       "      <td>NA</td>\n",
       "      <td>0</td>\n",
       "      <td>6</td>\n",
       "      <td>2008</td>\n",
       "      <td>WD</td>\n",
       "      <td>Normal</td>\n",
       "      <td>147500</td>\n",
       "    </tr>\n",
       "  </tbody>\n",
       "</table>\n",
       "<p>1460 rows × 81 columns</p>\n",
       "</div>"
      ],
      "text/plain": [
       "        Id  MSSubClass MSZoning LotFrontage  LotArea Street Alley LotShape   \n",
       "0        1          60       RL          65     8450   Pave    NA      Reg  \\\n",
       "1        2          20       RL          80     9600   Pave    NA      Reg   \n",
       "2        3          60       RL          68    11250   Pave    NA      IR1   \n",
       "3        4          70       RL          60     9550   Pave    NA      IR1   \n",
       "4        5          60       RL          84    14260   Pave    NA      IR1   \n",
       "...    ...         ...      ...         ...      ...    ...   ...      ...   \n",
       "1455  1456          60       RL          62     7917   Pave    NA      Reg   \n",
       "1456  1457          20       RL          85    13175   Pave    NA      Reg   \n",
       "1457  1458          70       RL          66     9042   Pave    NA      Reg   \n",
       "1458  1459          20       RL          68     9717   Pave    NA      Reg   \n",
       "1459  1460          20       RL          75     9937   Pave    NA      Reg   \n",
       "\n",
       "     LandContour Utilities  ... PoolArea PoolQC  Fence MiscFeature MiscVal   \n",
       "0            Lvl    AllPub  ...        0     NA     NA          NA       0  \\\n",
       "1            Lvl    AllPub  ...        0     NA     NA          NA       0   \n",
       "2            Lvl    AllPub  ...        0     NA     NA          NA       0   \n",
       "3            Lvl    AllPub  ...        0     NA     NA          NA       0   \n",
       "4            Lvl    AllPub  ...        0     NA     NA          NA       0   \n",
       "...          ...       ...  ...      ...    ...    ...         ...     ...   \n",
       "1455         Lvl    AllPub  ...        0     NA     NA          NA       0   \n",
       "1456         Lvl    AllPub  ...        0     NA  MnPrv          NA       0   \n",
       "1457         Lvl    AllPub  ...        0     NA  GdPrv        Shed    2500   \n",
       "1458         Lvl    AllPub  ...        0     NA     NA          NA       0   \n",
       "1459         Lvl    AllPub  ...        0     NA     NA          NA       0   \n",
       "\n",
       "     MoSold YrSold  SaleType  SaleCondition  SalePrice  \n",
       "0         2   2008        WD         Normal     208500  \n",
       "1         5   2007        WD         Normal     181500  \n",
       "2         9   2008        WD         Normal     223500  \n",
       "3         2   2006        WD        Abnorml     140000  \n",
       "4        12   2008        WD         Normal     250000  \n",
       "...     ...    ...       ...            ...        ...  \n",
       "1455      8   2007        WD         Normal     175000  \n",
       "1456      2   2010        WD         Normal     210000  \n",
       "1457      5   2010        WD         Normal     266500  \n",
       "1458      4   2010        WD         Normal     142125  \n",
       "1459      6   2008        WD         Normal     147500  \n",
       "\n",
       "[1460 rows x 81 columns]"
      ]
     },
     "execution_count": 6,
     "metadata": {},
     "output_type": "execute_result"
    }
   ],
   "source": [
    "df_train = spark.read.csv(\"./data/train.csv\", header=True, inferSchema=True)\n",
    "#spark_env = os.getenv('SPARK_HOME')\n",
    "#df_train = spark.read.csv(f\"{spark_env}/data/kaggle_data/train.csv\", header=True, inferSchema=True)\n",
    "df_train.toPandas()"
   ]
  },
  {
   "cell_type": "code",
   "execution_count": 7,
   "id": "a0a0ee5e-2488-4553-9acf-2fae40b425ae",
   "metadata": {
    "tags": []
   },
   "outputs": [
    {
     "data": {
      "text/html": [
       "<div>\n",
       "<style scoped>\n",
       "    .dataframe tbody tr th:only-of-type {\n",
       "        vertical-align: middle;\n",
       "    }\n",
       "\n",
       "    .dataframe tbody tr th {\n",
       "        vertical-align: top;\n",
       "    }\n",
       "\n",
       "    .dataframe thead th {\n",
       "        text-align: right;\n",
       "    }\n",
       "</style>\n",
       "<table border=\"1\" class=\"dataframe\">\n",
       "  <thead>\n",
       "    <tr style=\"text-align: right;\">\n",
       "      <th></th>\n",
       "      <th>Id</th>\n",
       "      <th>MSSubClass</th>\n",
       "      <th>MSZoning</th>\n",
       "      <th>LotFrontage</th>\n",
       "      <th>LotArea</th>\n",
       "      <th>Street</th>\n",
       "      <th>Alley</th>\n",
       "      <th>LotShape</th>\n",
       "      <th>LandContour</th>\n",
       "      <th>Utilities</th>\n",
       "      <th>...</th>\n",
       "      <th>ScreenPorch</th>\n",
       "      <th>PoolArea</th>\n",
       "      <th>PoolQC</th>\n",
       "      <th>Fence</th>\n",
       "      <th>MiscFeature</th>\n",
       "      <th>MiscVal</th>\n",
       "      <th>MoSold</th>\n",
       "      <th>YrSold</th>\n",
       "      <th>SaleType</th>\n",
       "      <th>SaleCondition</th>\n",
       "    </tr>\n",
       "  </thead>\n",
       "  <tbody>\n",
       "    <tr>\n",
       "      <th>0</th>\n",
       "      <td>1461</td>\n",
       "      <td>20</td>\n",
       "      <td>RH</td>\n",
       "      <td>80</td>\n",
       "      <td>11622</td>\n",
       "      <td>Pave</td>\n",
       "      <td>NA</td>\n",
       "      <td>Reg</td>\n",
       "      <td>Lvl</td>\n",
       "      <td>AllPub</td>\n",
       "      <td>...</td>\n",
       "      <td>120</td>\n",
       "      <td>0</td>\n",
       "      <td>NA</td>\n",
       "      <td>MnPrv</td>\n",
       "      <td>NA</td>\n",
       "      <td>0</td>\n",
       "      <td>6</td>\n",
       "      <td>2010</td>\n",
       "      <td>WD</td>\n",
       "      <td>Normal</td>\n",
       "    </tr>\n",
       "    <tr>\n",
       "      <th>1</th>\n",
       "      <td>1462</td>\n",
       "      <td>20</td>\n",
       "      <td>RL</td>\n",
       "      <td>81</td>\n",
       "      <td>14267</td>\n",
       "      <td>Pave</td>\n",
       "      <td>NA</td>\n",
       "      <td>IR1</td>\n",
       "      <td>Lvl</td>\n",
       "      <td>AllPub</td>\n",
       "      <td>...</td>\n",
       "      <td>0</td>\n",
       "      <td>0</td>\n",
       "      <td>NA</td>\n",
       "      <td>NA</td>\n",
       "      <td>Gar2</td>\n",
       "      <td>12500</td>\n",
       "      <td>6</td>\n",
       "      <td>2010</td>\n",
       "      <td>WD</td>\n",
       "      <td>Normal</td>\n",
       "    </tr>\n",
       "    <tr>\n",
       "      <th>2</th>\n",
       "      <td>1463</td>\n",
       "      <td>60</td>\n",
       "      <td>RL</td>\n",
       "      <td>74</td>\n",
       "      <td>13830</td>\n",
       "      <td>Pave</td>\n",
       "      <td>NA</td>\n",
       "      <td>IR1</td>\n",
       "      <td>Lvl</td>\n",
       "      <td>AllPub</td>\n",
       "      <td>...</td>\n",
       "      <td>0</td>\n",
       "      <td>0</td>\n",
       "      <td>NA</td>\n",
       "      <td>MnPrv</td>\n",
       "      <td>NA</td>\n",
       "      <td>0</td>\n",
       "      <td>3</td>\n",
       "      <td>2010</td>\n",
       "      <td>WD</td>\n",
       "      <td>Normal</td>\n",
       "    </tr>\n",
       "    <tr>\n",
       "      <th>3</th>\n",
       "      <td>1464</td>\n",
       "      <td>60</td>\n",
       "      <td>RL</td>\n",
       "      <td>78</td>\n",
       "      <td>9978</td>\n",
       "      <td>Pave</td>\n",
       "      <td>NA</td>\n",
       "      <td>IR1</td>\n",
       "      <td>Lvl</td>\n",
       "      <td>AllPub</td>\n",
       "      <td>...</td>\n",
       "      <td>0</td>\n",
       "      <td>0</td>\n",
       "      <td>NA</td>\n",
       "      <td>NA</td>\n",
       "      <td>NA</td>\n",
       "      <td>0</td>\n",
       "      <td>6</td>\n",
       "      <td>2010</td>\n",
       "      <td>WD</td>\n",
       "      <td>Normal</td>\n",
       "    </tr>\n",
       "    <tr>\n",
       "      <th>4</th>\n",
       "      <td>1465</td>\n",
       "      <td>120</td>\n",
       "      <td>RL</td>\n",
       "      <td>43</td>\n",
       "      <td>5005</td>\n",
       "      <td>Pave</td>\n",
       "      <td>NA</td>\n",
       "      <td>IR1</td>\n",
       "      <td>HLS</td>\n",
       "      <td>AllPub</td>\n",
       "      <td>...</td>\n",
       "      <td>144</td>\n",
       "      <td>0</td>\n",
       "      <td>NA</td>\n",
       "      <td>NA</td>\n",
       "      <td>NA</td>\n",
       "      <td>0</td>\n",
       "      <td>1</td>\n",
       "      <td>2010</td>\n",
       "      <td>WD</td>\n",
       "      <td>Normal</td>\n",
       "    </tr>\n",
       "    <tr>\n",
       "      <th>...</th>\n",
       "      <td>...</td>\n",
       "      <td>...</td>\n",
       "      <td>...</td>\n",
       "      <td>...</td>\n",
       "      <td>...</td>\n",
       "      <td>...</td>\n",
       "      <td>...</td>\n",
       "      <td>...</td>\n",
       "      <td>...</td>\n",
       "      <td>...</td>\n",
       "      <td>...</td>\n",
       "      <td>...</td>\n",
       "      <td>...</td>\n",
       "      <td>...</td>\n",
       "      <td>...</td>\n",
       "      <td>...</td>\n",
       "      <td>...</td>\n",
       "      <td>...</td>\n",
       "      <td>...</td>\n",
       "      <td>...</td>\n",
       "      <td>...</td>\n",
       "    </tr>\n",
       "    <tr>\n",
       "      <th>1454</th>\n",
       "      <td>2915</td>\n",
       "      <td>160</td>\n",
       "      <td>RM</td>\n",
       "      <td>21</td>\n",
       "      <td>1936</td>\n",
       "      <td>Pave</td>\n",
       "      <td>NA</td>\n",
       "      <td>Reg</td>\n",
       "      <td>Lvl</td>\n",
       "      <td>AllPub</td>\n",
       "      <td>...</td>\n",
       "      <td>0</td>\n",
       "      <td>0</td>\n",
       "      <td>NA</td>\n",
       "      <td>NA</td>\n",
       "      <td>NA</td>\n",
       "      <td>0</td>\n",
       "      <td>6</td>\n",
       "      <td>2006</td>\n",
       "      <td>WD</td>\n",
       "      <td>Normal</td>\n",
       "    </tr>\n",
       "    <tr>\n",
       "      <th>1455</th>\n",
       "      <td>2916</td>\n",
       "      <td>160</td>\n",
       "      <td>RM</td>\n",
       "      <td>21</td>\n",
       "      <td>1894</td>\n",
       "      <td>Pave</td>\n",
       "      <td>NA</td>\n",
       "      <td>Reg</td>\n",
       "      <td>Lvl</td>\n",
       "      <td>AllPub</td>\n",
       "      <td>...</td>\n",
       "      <td>0</td>\n",
       "      <td>0</td>\n",
       "      <td>NA</td>\n",
       "      <td>NA</td>\n",
       "      <td>NA</td>\n",
       "      <td>0</td>\n",
       "      <td>4</td>\n",
       "      <td>2006</td>\n",
       "      <td>WD</td>\n",
       "      <td>Abnorml</td>\n",
       "    </tr>\n",
       "    <tr>\n",
       "      <th>1456</th>\n",
       "      <td>2917</td>\n",
       "      <td>20</td>\n",
       "      <td>RL</td>\n",
       "      <td>160</td>\n",
       "      <td>20000</td>\n",
       "      <td>Pave</td>\n",
       "      <td>NA</td>\n",
       "      <td>Reg</td>\n",
       "      <td>Lvl</td>\n",
       "      <td>AllPub</td>\n",
       "      <td>...</td>\n",
       "      <td>0</td>\n",
       "      <td>0</td>\n",
       "      <td>NA</td>\n",
       "      <td>NA</td>\n",
       "      <td>NA</td>\n",
       "      <td>0</td>\n",
       "      <td>9</td>\n",
       "      <td>2006</td>\n",
       "      <td>WD</td>\n",
       "      <td>Abnorml</td>\n",
       "    </tr>\n",
       "    <tr>\n",
       "      <th>1457</th>\n",
       "      <td>2918</td>\n",
       "      <td>85</td>\n",
       "      <td>RL</td>\n",
       "      <td>62</td>\n",
       "      <td>10441</td>\n",
       "      <td>Pave</td>\n",
       "      <td>NA</td>\n",
       "      <td>Reg</td>\n",
       "      <td>Lvl</td>\n",
       "      <td>AllPub</td>\n",
       "      <td>...</td>\n",
       "      <td>0</td>\n",
       "      <td>0</td>\n",
       "      <td>NA</td>\n",
       "      <td>MnPrv</td>\n",
       "      <td>Shed</td>\n",
       "      <td>700</td>\n",
       "      <td>7</td>\n",
       "      <td>2006</td>\n",
       "      <td>WD</td>\n",
       "      <td>Normal</td>\n",
       "    </tr>\n",
       "    <tr>\n",
       "      <th>1458</th>\n",
       "      <td>2919</td>\n",
       "      <td>60</td>\n",
       "      <td>RL</td>\n",
       "      <td>74</td>\n",
       "      <td>9627</td>\n",
       "      <td>Pave</td>\n",
       "      <td>NA</td>\n",
       "      <td>Reg</td>\n",
       "      <td>Lvl</td>\n",
       "      <td>AllPub</td>\n",
       "      <td>...</td>\n",
       "      <td>0</td>\n",
       "      <td>0</td>\n",
       "      <td>NA</td>\n",
       "      <td>NA</td>\n",
       "      <td>NA</td>\n",
       "      <td>0</td>\n",
       "      <td>11</td>\n",
       "      <td>2006</td>\n",
       "      <td>WD</td>\n",
       "      <td>Normal</td>\n",
       "    </tr>\n",
       "  </tbody>\n",
       "</table>\n",
       "<p>1459 rows × 80 columns</p>\n",
       "</div>"
      ],
      "text/plain": [
       "        Id  MSSubClass MSZoning LotFrontage  LotArea Street Alley LotShape   \n",
       "0     1461          20       RH          80    11622   Pave    NA      Reg  \\\n",
       "1     1462          20       RL          81    14267   Pave    NA      IR1   \n",
       "2     1463          60       RL          74    13830   Pave    NA      IR1   \n",
       "3     1464          60       RL          78     9978   Pave    NA      IR1   \n",
       "4     1465         120       RL          43     5005   Pave    NA      IR1   \n",
       "...    ...         ...      ...         ...      ...    ...   ...      ...   \n",
       "1454  2915         160       RM          21     1936   Pave    NA      Reg   \n",
       "1455  2916         160       RM          21     1894   Pave    NA      Reg   \n",
       "1456  2917          20       RL         160    20000   Pave    NA      Reg   \n",
       "1457  2918          85       RL          62    10441   Pave    NA      Reg   \n",
       "1458  2919          60       RL          74     9627   Pave    NA      Reg   \n",
       "\n",
       "     LandContour Utilities  ... ScreenPorch PoolArea PoolQC  Fence   \n",
       "0            Lvl    AllPub  ...         120        0     NA  MnPrv  \\\n",
       "1            Lvl    AllPub  ...           0        0     NA     NA   \n",
       "2            Lvl    AllPub  ...           0        0     NA  MnPrv   \n",
       "3            Lvl    AllPub  ...           0        0     NA     NA   \n",
       "4            HLS    AllPub  ...         144        0     NA     NA   \n",
       "...          ...       ...  ...         ...      ...    ...    ...   \n",
       "1454         Lvl    AllPub  ...           0        0     NA     NA   \n",
       "1455         Lvl    AllPub  ...           0        0     NA     NA   \n",
       "1456         Lvl    AllPub  ...           0        0     NA     NA   \n",
       "1457         Lvl    AllPub  ...           0        0     NA  MnPrv   \n",
       "1458         Lvl    AllPub  ...           0        0     NA     NA   \n",
       "\n",
       "     MiscFeature MiscVal MoSold  YrSold  SaleType  SaleCondition  \n",
       "0             NA       0      6    2010        WD         Normal  \n",
       "1           Gar2   12500      6    2010        WD         Normal  \n",
       "2             NA       0      3    2010        WD         Normal  \n",
       "3             NA       0      6    2010        WD         Normal  \n",
       "4             NA       0      1    2010        WD         Normal  \n",
       "...          ...     ...    ...     ...       ...            ...  \n",
       "1454          NA       0      6    2006        WD         Normal  \n",
       "1455          NA       0      4    2006        WD        Abnorml  \n",
       "1456          NA       0      9    2006        WD        Abnorml  \n",
       "1457        Shed     700      7    2006        WD         Normal  \n",
       "1458          NA       0     11    2006        WD         Normal  \n",
       "\n",
       "[1459 rows x 80 columns]"
      ]
     },
     "execution_count": 7,
     "metadata": {},
     "output_type": "execute_result"
    }
   ],
   "source": [
    "#df_test = spark.read.csv(f\"{spark_env}/data/kaggle_data/test.csv\", header=True, inferSchema=True)\n",
    "df_test = spark.read.csv(\"./data/test.csv\", header=True, inferSchema=True)\n",
    "df_test.toPandas()"
   ]
  },
  {
   "cell_type": "code",
   "execution_count": 8,
   "id": "0d5d0e84-169c-4e00-bb36-3caaaabe5145",
   "metadata": {
    "tags": []
   },
   "outputs": [
    {
     "data": {
      "text/html": [
       "<div>\n",
       "<style scoped>\n",
       "    .dataframe tbody tr th:only-of-type {\n",
       "        vertical-align: middle;\n",
       "    }\n",
       "\n",
       "    .dataframe tbody tr th {\n",
       "        vertical-align: top;\n",
       "    }\n",
       "\n",
       "    .dataframe thead th {\n",
       "        text-align: right;\n",
       "    }\n",
       "</style>\n",
       "<table border=\"1\" class=\"dataframe\">\n",
       "  <thead>\n",
       "    <tr style=\"text-align: right;\">\n",
       "      <th></th>\n",
       "      <th>Id</th>\n",
       "      <th>MSSubClass</th>\n",
       "      <th>MSZoning</th>\n",
       "      <th>LotFrontage</th>\n",
       "      <th>LotArea</th>\n",
       "      <th>Street</th>\n",
       "      <th>Alley</th>\n",
       "      <th>LotShape</th>\n",
       "      <th>LandContour</th>\n",
       "      <th>Utilities</th>\n",
       "      <th>...</th>\n",
       "      <th>PoolArea</th>\n",
       "      <th>PoolQC</th>\n",
       "      <th>Fence</th>\n",
       "      <th>MiscFeature</th>\n",
       "      <th>MiscVal</th>\n",
       "      <th>MoSold</th>\n",
       "      <th>YrSold</th>\n",
       "      <th>SaleType</th>\n",
       "      <th>SaleCondition</th>\n",
       "      <th>SalePrice</th>\n",
       "    </tr>\n",
       "  </thead>\n",
       "  <tbody>\n",
       "    <tr>\n",
       "      <th>0</th>\n",
       "      <td>1461</td>\n",
       "      <td>20</td>\n",
       "      <td>RH</td>\n",
       "      <td>80</td>\n",
       "      <td>11622</td>\n",
       "      <td>Pave</td>\n",
       "      <td>NA</td>\n",
       "      <td>Reg</td>\n",
       "      <td>Lvl</td>\n",
       "      <td>AllPub</td>\n",
       "      <td>...</td>\n",
       "      <td>0</td>\n",
       "      <td>NA</td>\n",
       "      <td>MnPrv</td>\n",
       "      <td>NA</td>\n",
       "      <td>0</td>\n",
       "      <td>6</td>\n",
       "      <td>2010</td>\n",
       "      <td>WD</td>\n",
       "      <td>Normal</td>\n",
       "      <td>None</td>\n",
       "    </tr>\n",
       "    <tr>\n",
       "      <th>1</th>\n",
       "      <td>1462</td>\n",
       "      <td>20</td>\n",
       "      <td>RL</td>\n",
       "      <td>81</td>\n",
       "      <td>14267</td>\n",
       "      <td>Pave</td>\n",
       "      <td>NA</td>\n",
       "      <td>IR1</td>\n",
       "      <td>Lvl</td>\n",
       "      <td>AllPub</td>\n",
       "      <td>...</td>\n",
       "      <td>0</td>\n",
       "      <td>NA</td>\n",
       "      <td>NA</td>\n",
       "      <td>Gar2</td>\n",
       "      <td>12500</td>\n",
       "      <td>6</td>\n",
       "      <td>2010</td>\n",
       "      <td>WD</td>\n",
       "      <td>Normal</td>\n",
       "      <td>None</td>\n",
       "    </tr>\n",
       "    <tr>\n",
       "      <th>2</th>\n",
       "      <td>1463</td>\n",
       "      <td>60</td>\n",
       "      <td>RL</td>\n",
       "      <td>74</td>\n",
       "      <td>13830</td>\n",
       "      <td>Pave</td>\n",
       "      <td>NA</td>\n",
       "      <td>IR1</td>\n",
       "      <td>Lvl</td>\n",
       "      <td>AllPub</td>\n",
       "      <td>...</td>\n",
       "      <td>0</td>\n",
       "      <td>NA</td>\n",
       "      <td>MnPrv</td>\n",
       "      <td>NA</td>\n",
       "      <td>0</td>\n",
       "      <td>3</td>\n",
       "      <td>2010</td>\n",
       "      <td>WD</td>\n",
       "      <td>Normal</td>\n",
       "      <td>None</td>\n",
       "    </tr>\n",
       "    <tr>\n",
       "      <th>3</th>\n",
       "      <td>1464</td>\n",
       "      <td>60</td>\n",
       "      <td>RL</td>\n",
       "      <td>78</td>\n",
       "      <td>9978</td>\n",
       "      <td>Pave</td>\n",
       "      <td>NA</td>\n",
       "      <td>IR1</td>\n",
       "      <td>Lvl</td>\n",
       "      <td>AllPub</td>\n",
       "      <td>...</td>\n",
       "      <td>0</td>\n",
       "      <td>NA</td>\n",
       "      <td>NA</td>\n",
       "      <td>NA</td>\n",
       "      <td>0</td>\n",
       "      <td>6</td>\n",
       "      <td>2010</td>\n",
       "      <td>WD</td>\n",
       "      <td>Normal</td>\n",
       "      <td>None</td>\n",
       "    </tr>\n",
       "    <tr>\n",
       "      <th>4</th>\n",
       "      <td>1465</td>\n",
       "      <td>120</td>\n",
       "      <td>RL</td>\n",
       "      <td>43</td>\n",
       "      <td>5005</td>\n",
       "      <td>Pave</td>\n",
       "      <td>NA</td>\n",
       "      <td>IR1</td>\n",
       "      <td>HLS</td>\n",
       "      <td>AllPub</td>\n",
       "      <td>...</td>\n",
       "      <td>0</td>\n",
       "      <td>NA</td>\n",
       "      <td>NA</td>\n",
       "      <td>NA</td>\n",
       "      <td>0</td>\n",
       "      <td>1</td>\n",
       "      <td>2010</td>\n",
       "      <td>WD</td>\n",
       "      <td>Normal</td>\n",
       "      <td>None</td>\n",
       "    </tr>\n",
       "    <tr>\n",
       "      <th>...</th>\n",
       "      <td>...</td>\n",
       "      <td>...</td>\n",
       "      <td>...</td>\n",
       "      <td>...</td>\n",
       "      <td>...</td>\n",
       "      <td>...</td>\n",
       "      <td>...</td>\n",
       "      <td>...</td>\n",
       "      <td>...</td>\n",
       "      <td>...</td>\n",
       "      <td>...</td>\n",
       "      <td>...</td>\n",
       "      <td>...</td>\n",
       "      <td>...</td>\n",
       "      <td>...</td>\n",
       "      <td>...</td>\n",
       "      <td>...</td>\n",
       "      <td>...</td>\n",
       "      <td>...</td>\n",
       "      <td>...</td>\n",
       "      <td>...</td>\n",
       "    </tr>\n",
       "    <tr>\n",
       "      <th>1454</th>\n",
       "      <td>2915</td>\n",
       "      <td>160</td>\n",
       "      <td>RM</td>\n",
       "      <td>21</td>\n",
       "      <td>1936</td>\n",
       "      <td>Pave</td>\n",
       "      <td>NA</td>\n",
       "      <td>Reg</td>\n",
       "      <td>Lvl</td>\n",
       "      <td>AllPub</td>\n",
       "      <td>...</td>\n",
       "      <td>0</td>\n",
       "      <td>NA</td>\n",
       "      <td>NA</td>\n",
       "      <td>NA</td>\n",
       "      <td>0</td>\n",
       "      <td>6</td>\n",
       "      <td>2006</td>\n",
       "      <td>WD</td>\n",
       "      <td>Normal</td>\n",
       "      <td>None</td>\n",
       "    </tr>\n",
       "    <tr>\n",
       "      <th>1455</th>\n",
       "      <td>2916</td>\n",
       "      <td>160</td>\n",
       "      <td>RM</td>\n",
       "      <td>21</td>\n",
       "      <td>1894</td>\n",
       "      <td>Pave</td>\n",
       "      <td>NA</td>\n",
       "      <td>Reg</td>\n",
       "      <td>Lvl</td>\n",
       "      <td>AllPub</td>\n",
       "      <td>...</td>\n",
       "      <td>0</td>\n",
       "      <td>NA</td>\n",
       "      <td>NA</td>\n",
       "      <td>NA</td>\n",
       "      <td>0</td>\n",
       "      <td>4</td>\n",
       "      <td>2006</td>\n",
       "      <td>WD</td>\n",
       "      <td>Abnorml</td>\n",
       "      <td>None</td>\n",
       "    </tr>\n",
       "    <tr>\n",
       "      <th>1456</th>\n",
       "      <td>2917</td>\n",
       "      <td>20</td>\n",
       "      <td>RL</td>\n",
       "      <td>160</td>\n",
       "      <td>20000</td>\n",
       "      <td>Pave</td>\n",
       "      <td>NA</td>\n",
       "      <td>Reg</td>\n",
       "      <td>Lvl</td>\n",
       "      <td>AllPub</td>\n",
       "      <td>...</td>\n",
       "      <td>0</td>\n",
       "      <td>NA</td>\n",
       "      <td>NA</td>\n",
       "      <td>NA</td>\n",
       "      <td>0</td>\n",
       "      <td>9</td>\n",
       "      <td>2006</td>\n",
       "      <td>WD</td>\n",
       "      <td>Abnorml</td>\n",
       "      <td>None</td>\n",
       "    </tr>\n",
       "    <tr>\n",
       "      <th>1457</th>\n",
       "      <td>2918</td>\n",
       "      <td>85</td>\n",
       "      <td>RL</td>\n",
       "      <td>62</td>\n",
       "      <td>10441</td>\n",
       "      <td>Pave</td>\n",
       "      <td>NA</td>\n",
       "      <td>Reg</td>\n",
       "      <td>Lvl</td>\n",
       "      <td>AllPub</td>\n",
       "      <td>...</td>\n",
       "      <td>0</td>\n",
       "      <td>NA</td>\n",
       "      <td>MnPrv</td>\n",
       "      <td>Shed</td>\n",
       "      <td>700</td>\n",
       "      <td>7</td>\n",
       "      <td>2006</td>\n",
       "      <td>WD</td>\n",
       "      <td>Normal</td>\n",
       "      <td>None</td>\n",
       "    </tr>\n",
       "    <tr>\n",
       "      <th>1458</th>\n",
       "      <td>2919</td>\n",
       "      <td>60</td>\n",
       "      <td>RL</td>\n",
       "      <td>74</td>\n",
       "      <td>9627</td>\n",
       "      <td>Pave</td>\n",
       "      <td>NA</td>\n",
       "      <td>Reg</td>\n",
       "      <td>Lvl</td>\n",
       "      <td>AllPub</td>\n",
       "      <td>...</td>\n",
       "      <td>0</td>\n",
       "      <td>NA</td>\n",
       "      <td>NA</td>\n",
       "      <td>NA</td>\n",
       "      <td>0</td>\n",
       "      <td>11</td>\n",
       "      <td>2006</td>\n",
       "      <td>WD</td>\n",
       "      <td>Normal</td>\n",
       "      <td>None</td>\n",
       "    </tr>\n",
       "  </tbody>\n",
       "</table>\n",
       "<p>1459 rows × 81 columns</p>\n",
       "</div>"
      ],
      "text/plain": [
       "        Id  MSSubClass MSZoning LotFrontage  LotArea Street Alley LotShape   \n",
       "0     1461          20       RH          80    11622   Pave    NA      Reg  \\\n",
       "1     1462          20       RL          81    14267   Pave    NA      IR1   \n",
       "2     1463          60       RL          74    13830   Pave    NA      IR1   \n",
       "3     1464          60       RL          78     9978   Pave    NA      IR1   \n",
       "4     1465         120       RL          43     5005   Pave    NA      IR1   \n",
       "...    ...         ...      ...         ...      ...    ...   ...      ...   \n",
       "1454  2915         160       RM          21     1936   Pave    NA      Reg   \n",
       "1455  2916         160       RM          21     1894   Pave    NA      Reg   \n",
       "1456  2917          20       RL         160    20000   Pave    NA      Reg   \n",
       "1457  2918          85       RL          62    10441   Pave    NA      Reg   \n",
       "1458  2919          60       RL          74     9627   Pave    NA      Reg   \n",
       "\n",
       "     LandContour Utilities  ... PoolArea PoolQC  Fence MiscFeature MiscVal   \n",
       "0            Lvl    AllPub  ...        0     NA  MnPrv          NA       0  \\\n",
       "1            Lvl    AllPub  ...        0     NA     NA        Gar2   12500   \n",
       "2            Lvl    AllPub  ...        0     NA  MnPrv          NA       0   \n",
       "3            Lvl    AllPub  ...        0     NA     NA          NA       0   \n",
       "4            HLS    AllPub  ...        0     NA     NA          NA       0   \n",
       "...          ...       ...  ...      ...    ...    ...         ...     ...   \n",
       "1454         Lvl    AllPub  ...        0     NA     NA          NA       0   \n",
       "1455         Lvl    AllPub  ...        0     NA     NA          NA       0   \n",
       "1456         Lvl    AllPub  ...        0     NA     NA          NA       0   \n",
       "1457         Lvl    AllPub  ...        0     NA  MnPrv        Shed     700   \n",
       "1458         Lvl    AllPub  ...        0     NA     NA          NA       0   \n",
       "\n",
       "     MoSold YrSold  SaleType  SaleCondition  SalePrice  \n",
       "0         6   2010        WD         Normal       None  \n",
       "1         6   2010        WD         Normal       None  \n",
       "2         3   2010        WD         Normal       None  \n",
       "3         6   2010        WD         Normal       None  \n",
       "4         1   2010        WD         Normal       None  \n",
       "...     ...    ...       ...            ...        ...  \n",
       "1454      6   2006        WD         Normal       None  \n",
       "1455      4   2006        WD        Abnorml       None  \n",
       "1456      9   2006        WD        Abnorml       None  \n",
       "1457      7   2006        WD         Normal       None  \n",
       "1458     11   2006        WD         Normal       None  \n",
       "\n",
       "[1459 rows x 81 columns]"
      ]
     },
     "execution_count": 8,
     "metadata": {},
     "output_type": "execute_result"
    }
   ],
   "source": [
    "df_test = df_test.withColumn('SalePrice', func.lit(None))\n",
    "df_test.toPandas()"
   ]
  },
  {
   "cell_type": "code",
   "execution_count": 9,
   "id": "2aba07c5-d1b9-4981-a27f-9450ca2819ca",
   "metadata": {
    "tags": []
   },
   "outputs": [
    {
     "data": {
      "text/html": [
       "<div>\n",
       "<style scoped>\n",
       "    .dataframe tbody tr th:only-of-type {\n",
       "        vertical-align: middle;\n",
       "    }\n",
       "\n",
       "    .dataframe tbody tr th {\n",
       "        vertical-align: top;\n",
       "    }\n",
       "\n",
       "    .dataframe thead th {\n",
       "        text-align: right;\n",
       "    }\n",
       "</style>\n",
       "<table border=\"1\" class=\"dataframe\">\n",
       "  <thead>\n",
       "    <tr style=\"text-align: right;\">\n",
       "      <th></th>\n",
       "      <th>Id</th>\n",
       "      <th>MSSubClass</th>\n",
       "      <th>MSZoning</th>\n",
       "      <th>LotFrontage</th>\n",
       "      <th>LotArea</th>\n",
       "      <th>Street</th>\n",
       "      <th>Alley</th>\n",
       "      <th>LotShape</th>\n",
       "      <th>LandContour</th>\n",
       "      <th>Utilities</th>\n",
       "      <th>...</th>\n",
       "      <th>PoolArea</th>\n",
       "      <th>PoolQC</th>\n",
       "      <th>Fence</th>\n",
       "      <th>MiscFeature</th>\n",
       "      <th>MiscVal</th>\n",
       "      <th>MoSold</th>\n",
       "      <th>YrSold</th>\n",
       "      <th>SaleType</th>\n",
       "      <th>SaleCondition</th>\n",
       "      <th>SalePrice</th>\n",
       "    </tr>\n",
       "  </thead>\n",
       "  <tbody>\n",
       "    <tr>\n",
       "      <th>0</th>\n",
       "      <td>1</td>\n",
       "      <td>60</td>\n",
       "      <td>RL</td>\n",
       "      <td>65</td>\n",
       "      <td>8450</td>\n",
       "      <td>Pave</td>\n",
       "      <td>NA</td>\n",
       "      <td>Reg</td>\n",
       "      <td>Lvl</td>\n",
       "      <td>AllPub</td>\n",
       "      <td>...</td>\n",
       "      <td>0</td>\n",
       "      <td>NA</td>\n",
       "      <td>NA</td>\n",
       "      <td>NA</td>\n",
       "      <td>0</td>\n",
       "      <td>2</td>\n",
       "      <td>2008</td>\n",
       "      <td>WD</td>\n",
       "      <td>Normal</td>\n",
       "      <td>208500.0</td>\n",
       "    </tr>\n",
       "    <tr>\n",
       "      <th>1</th>\n",
       "      <td>2</td>\n",
       "      <td>20</td>\n",
       "      <td>RL</td>\n",
       "      <td>80</td>\n",
       "      <td>9600</td>\n",
       "      <td>Pave</td>\n",
       "      <td>NA</td>\n",
       "      <td>Reg</td>\n",
       "      <td>Lvl</td>\n",
       "      <td>AllPub</td>\n",
       "      <td>...</td>\n",
       "      <td>0</td>\n",
       "      <td>NA</td>\n",
       "      <td>NA</td>\n",
       "      <td>NA</td>\n",
       "      <td>0</td>\n",
       "      <td>5</td>\n",
       "      <td>2007</td>\n",
       "      <td>WD</td>\n",
       "      <td>Normal</td>\n",
       "      <td>181500.0</td>\n",
       "    </tr>\n",
       "    <tr>\n",
       "      <th>2</th>\n",
       "      <td>3</td>\n",
       "      <td>60</td>\n",
       "      <td>RL</td>\n",
       "      <td>68</td>\n",
       "      <td>11250</td>\n",
       "      <td>Pave</td>\n",
       "      <td>NA</td>\n",
       "      <td>IR1</td>\n",
       "      <td>Lvl</td>\n",
       "      <td>AllPub</td>\n",
       "      <td>...</td>\n",
       "      <td>0</td>\n",
       "      <td>NA</td>\n",
       "      <td>NA</td>\n",
       "      <td>NA</td>\n",
       "      <td>0</td>\n",
       "      <td>9</td>\n",
       "      <td>2008</td>\n",
       "      <td>WD</td>\n",
       "      <td>Normal</td>\n",
       "      <td>223500.0</td>\n",
       "    </tr>\n",
       "    <tr>\n",
       "      <th>3</th>\n",
       "      <td>4</td>\n",
       "      <td>70</td>\n",
       "      <td>RL</td>\n",
       "      <td>60</td>\n",
       "      <td>9550</td>\n",
       "      <td>Pave</td>\n",
       "      <td>NA</td>\n",
       "      <td>IR1</td>\n",
       "      <td>Lvl</td>\n",
       "      <td>AllPub</td>\n",
       "      <td>...</td>\n",
       "      <td>0</td>\n",
       "      <td>NA</td>\n",
       "      <td>NA</td>\n",
       "      <td>NA</td>\n",
       "      <td>0</td>\n",
       "      <td>2</td>\n",
       "      <td>2006</td>\n",
       "      <td>WD</td>\n",
       "      <td>Abnorml</td>\n",
       "      <td>140000.0</td>\n",
       "    </tr>\n",
       "    <tr>\n",
       "      <th>4</th>\n",
       "      <td>5</td>\n",
       "      <td>60</td>\n",
       "      <td>RL</td>\n",
       "      <td>84</td>\n",
       "      <td>14260</td>\n",
       "      <td>Pave</td>\n",
       "      <td>NA</td>\n",
       "      <td>IR1</td>\n",
       "      <td>Lvl</td>\n",
       "      <td>AllPub</td>\n",
       "      <td>...</td>\n",
       "      <td>0</td>\n",
       "      <td>NA</td>\n",
       "      <td>NA</td>\n",
       "      <td>NA</td>\n",
       "      <td>0</td>\n",
       "      <td>12</td>\n",
       "      <td>2008</td>\n",
       "      <td>WD</td>\n",
       "      <td>Normal</td>\n",
       "      <td>250000.0</td>\n",
       "    </tr>\n",
       "    <tr>\n",
       "      <th>...</th>\n",
       "      <td>...</td>\n",
       "      <td>...</td>\n",
       "      <td>...</td>\n",
       "      <td>...</td>\n",
       "      <td>...</td>\n",
       "      <td>...</td>\n",
       "      <td>...</td>\n",
       "      <td>...</td>\n",
       "      <td>...</td>\n",
       "      <td>...</td>\n",
       "      <td>...</td>\n",
       "      <td>...</td>\n",
       "      <td>...</td>\n",
       "      <td>...</td>\n",
       "      <td>...</td>\n",
       "      <td>...</td>\n",
       "      <td>...</td>\n",
       "      <td>...</td>\n",
       "      <td>...</td>\n",
       "      <td>...</td>\n",
       "      <td>...</td>\n",
       "    </tr>\n",
       "    <tr>\n",
       "      <th>2914</th>\n",
       "      <td>2915</td>\n",
       "      <td>160</td>\n",
       "      <td>RM</td>\n",
       "      <td>21</td>\n",
       "      <td>1936</td>\n",
       "      <td>Pave</td>\n",
       "      <td>NA</td>\n",
       "      <td>Reg</td>\n",
       "      <td>Lvl</td>\n",
       "      <td>AllPub</td>\n",
       "      <td>...</td>\n",
       "      <td>0</td>\n",
       "      <td>NA</td>\n",
       "      <td>NA</td>\n",
       "      <td>NA</td>\n",
       "      <td>0</td>\n",
       "      <td>6</td>\n",
       "      <td>2006</td>\n",
       "      <td>WD</td>\n",
       "      <td>Normal</td>\n",
       "      <td>NaN</td>\n",
       "    </tr>\n",
       "    <tr>\n",
       "      <th>2915</th>\n",
       "      <td>2916</td>\n",
       "      <td>160</td>\n",
       "      <td>RM</td>\n",
       "      <td>21</td>\n",
       "      <td>1894</td>\n",
       "      <td>Pave</td>\n",
       "      <td>NA</td>\n",
       "      <td>Reg</td>\n",
       "      <td>Lvl</td>\n",
       "      <td>AllPub</td>\n",
       "      <td>...</td>\n",
       "      <td>0</td>\n",
       "      <td>NA</td>\n",
       "      <td>NA</td>\n",
       "      <td>NA</td>\n",
       "      <td>0</td>\n",
       "      <td>4</td>\n",
       "      <td>2006</td>\n",
       "      <td>WD</td>\n",
       "      <td>Abnorml</td>\n",
       "      <td>NaN</td>\n",
       "    </tr>\n",
       "    <tr>\n",
       "      <th>2916</th>\n",
       "      <td>2917</td>\n",
       "      <td>20</td>\n",
       "      <td>RL</td>\n",
       "      <td>160</td>\n",
       "      <td>20000</td>\n",
       "      <td>Pave</td>\n",
       "      <td>NA</td>\n",
       "      <td>Reg</td>\n",
       "      <td>Lvl</td>\n",
       "      <td>AllPub</td>\n",
       "      <td>...</td>\n",
       "      <td>0</td>\n",
       "      <td>NA</td>\n",
       "      <td>NA</td>\n",
       "      <td>NA</td>\n",
       "      <td>0</td>\n",
       "      <td>9</td>\n",
       "      <td>2006</td>\n",
       "      <td>WD</td>\n",
       "      <td>Abnorml</td>\n",
       "      <td>NaN</td>\n",
       "    </tr>\n",
       "    <tr>\n",
       "      <th>2917</th>\n",
       "      <td>2918</td>\n",
       "      <td>85</td>\n",
       "      <td>RL</td>\n",
       "      <td>62</td>\n",
       "      <td>10441</td>\n",
       "      <td>Pave</td>\n",
       "      <td>NA</td>\n",
       "      <td>Reg</td>\n",
       "      <td>Lvl</td>\n",
       "      <td>AllPub</td>\n",
       "      <td>...</td>\n",
       "      <td>0</td>\n",
       "      <td>NA</td>\n",
       "      <td>MnPrv</td>\n",
       "      <td>Shed</td>\n",
       "      <td>700</td>\n",
       "      <td>7</td>\n",
       "      <td>2006</td>\n",
       "      <td>WD</td>\n",
       "      <td>Normal</td>\n",
       "      <td>NaN</td>\n",
       "    </tr>\n",
       "    <tr>\n",
       "      <th>2918</th>\n",
       "      <td>2919</td>\n",
       "      <td>60</td>\n",
       "      <td>RL</td>\n",
       "      <td>74</td>\n",
       "      <td>9627</td>\n",
       "      <td>Pave</td>\n",
       "      <td>NA</td>\n",
       "      <td>Reg</td>\n",
       "      <td>Lvl</td>\n",
       "      <td>AllPub</td>\n",
       "      <td>...</td>\n",
       "      <td>0</td>\n",
       "      <td>NA</td>\n",
       "      <td>NA</td>\n",
       "      <td>NA</td>\n",
       "      <td>0</td>\n",
       "      <td>11</td>\n",
       "      <td>2006</td>\n",
       "      <td>WD</td>\n",
       "      <td>Normal</td>\n",
       "      <td>NaN</td>\n",
       "    </tr>\n",
       "  </tbody>\n",
       "</table>\n",
       "<p>2919 rows × 81 columns</p>\n",
       "</div>"
      ],
      "text/plain": [
       "        Id  MSSubClass MSZoning LotFrontage  LotArea Street Alley LotShape   \n",
       "0        1          60       RL          65     8450   Pave    NA      Reg  \\\n",
       "1        2          20       RL          80     9600   Pave    NA      Reg   \n",
       "2        3          60       RL          68    11250   Pave    NA      IR1   \n",
       "3        4          70       RL          60     9550   Pave    NA      IR1   \n",
       "4        5          60       RL          84    14260   Pave    NA      IR1   \n",
       "...    ...         ...      ...         ...      ...    ...   ...      ...   \n",
       "2914  2915         160       RM          21     1936   Pave    NA      Reg   \n",
       "2915  2916         160       RM          21     1894   Pave    NA      Reg   \n",
       "2916  2917          20       RL         160    20000   Pave    NA      Reg   \n",
       "2917  2918          85       RL          62    10441   Pave    NA      Reg   \n",
       "2918  2919          60       RL          74     9627   Pave    NA      Reg   \n",
       "\n",
       "     LandContour Utilities  ... PoolArea PoolQC  Fence MiscFeature MiscVal   \n",
       "0            Lvl    AllPub  ...        0     NA     NA          NA       0  \\\n",
       "1            Lvl    AllPub  ...        0     NA     NA          NA       0   \n",
       "2            Lvl    AllPub  ...        0     NA     NA          NA       0   \n",
       "3            Lvl    AllPub  ...        0     NA     NA          NA       0   \n",
       "4            Lvl    AllPub  ...        0     NA     NA          NA       0   \n",
       "...          ...       ...  ...      ...    ...    ...         ...     ...   \n",
       "2914         Lvl    AllPub  ...        0     NA     NA          NA       0   \n",
       "2915         Lvl    AllPub  ...        0     NA     NA          NA       0   \n",
       "2916         Lvl    AllPub  ...        0     NA     NA          NA       0   \n",
       "2917         Lvl    AllPub  ...        0     NA  MnPrv        Shed     700   \n",
       "2918         Lvl    AllPub  ...        0     NA     NA          NA       0   \n",
       "\n",
       "     MoSold YrSold  SaleType  SaleCondition  SalePrice  \n",
       "0         2   2008        WD         Normal   208500.0  \n",
       "1         5   2007        WD         Normal   181500.0  \n",
       "2         9   2008        WD         Normal   223500.0  \n",
       "3         2   2006        WD        Abnorml   140000.0  \n",
       "4        12   2008        WD         Normal   250000.0  \n",
       "...     ...    ...       ...            ...        ...  \n",
       "2914      6   2006        WD         Normal        NaN  \n",
       "2915      4   2006        WD        Abnorml        NaN  \n",
       "2916      9   2006        WD        Abnorml        NaN  \n",
       "2917      7   2006        WD         Normal        NaN  \n",
       "2918     11   2006        WD         Normal        NaN  \n",
       "\n",
       "[2919 rows x 81 columns]"
      ]
     },
     "execution_count": 9,
     "metadata": {},
     "output_type": "execute_result"
    }
   ],
   "source": [
    "df = df_train.union(df_test)\n",
    "df.toPandas()"
   ]
  },
  {
   "cell_type": "code",
   "execution_count": 10,
   "id": "d9c75652-d1b6-48fd-8042-32599ec3fd77",
   "metadata": {
    "tags": []
   },
   "outputs": [
    {
     "name": "stdout",
     "output_type": "stream",
     "text": [
      "root\n",
      " |-- Id: integer (nullable = true)\n",
      " |-- MSSubClass: integer (nullable = true)\n",
      " |-- MSZoning: string (nullable = true)\n",
      " |-- LotFrontage: string (nullable = true)\n",
      " |-- LotArea: integer (nullable = true)\n",
      " |-- Street: string (nullable = true)\n",
      " |-- Alley: string (nullable = true)\n",
      " |-- LotShape: string (nullable = true)\n",
      " |-- LandContour: string (nullable = true)\n",
      " |-- Utilities: string (nullable = true)\n",
      " |-- LotConfig: string (nullable = true)\n",
      " |-- LandSlope: string (nullable = true)\n",
      " |-- Neighborhood: string (nullable = true)\n",
      " |-- Condition1: string (nullable = true)\n",
      " |-- Condition2: string (nullable = true)\n",
      " |-- BldgType: string (nullable = true)\n",
      " |-- HouseStyle: string (nullable = true)\n",
      " |-- OverallQual: integer (nullable = true)\n",
      " |-- OverallCond: integer (nullable = true)\n",
      " |-- YearBuilt: integer (nullable = true)\n",
      " |-- YearRemodAdd: integer (nullable = true)\n",
      " |-- RoofStyle: string (nullable = true)\n",
      " |-- RoofMatl: string (nullable = true)\n",
      " |-- Exterior1st: string (nullable = true)\n",
      " |-- Exterior2nd: string (nullable = true)\n",
      " |-- MasVnrType: string (nullable = true)\n",
      " |-- MasVnrArea: string (nullable = true)\n",
      " |-- ExterQual: string (nullable = true)\n",
      " |-- ExterCond: string (nullable = true)\n",
      " |-- Foundation: string (nullable = true)\n",
      " |-- BsmtQual: string (nullable = true)\n",
      " |-- BsmtCond: string (nullable = true)\n",
      " |-- BsmtExposure: string (nullable = true)\n",
      " |-- BsmtFinType1: string (nullable = true)\n",
      " |-- BsmtFinSF1: string (nullable = true)\n",
      " |-- BsmtFinType2: string (nullable = true)\n",
      " |-- BsmtFinSF2: string (nullable = true)\n",
      " |-- BsmtUnfSF: string (nullable = true)\n",
      " |-- TotalBsmtSF: string (nullable = true)\n",
      " |-- Heating: string (nullable = true)\n",
      " |-- HeatingQC: string (nullable = true)\n",
      " |-- CentralAir: string (nullable = true)\n",
      " |-- Electrical: string (nullable = true)\n",
      " |-- 1stFlrSF: integer (nullable = true)\n",
      " |-- 2ndFlrSF: integer (nullable = true)\n",
      " |-- LowQualFinSF: integer (nullable = true)\n",
      " |-- GrLivArea: integer (nullable = true)\n",
      " |-- BsmtFullBath: string (nullable = true)\n",
      " |-- BsmtHalfBath: string (nullable = true)\n",
      " |-- FullBath: integer (nullable = true)\n",
      " |-- HalfBath: integer (nullable = true)\n",
      " |-- BedroomAbvGr: integer (nullable = true)\n",
      " |-- KitchenAbvGr: integer (nullable = true)\n",
      " |-- KitchenQual: string (nullable = true)\n",
      " |-- TotRmsAbvGrd: integer (nullable = true)\n",
      " |-- Functional: string (nullable = true)\n",
      " |-- Fireplaces: integer (nullable = true)\n",
      " |-- FireplaceQu: string (nullable = true)\n",
      " |-- GarageType: string (nullable = true)\n",
      " |-- GarageYrBlt: string (nullable = true)\n",
      " |-- GarageFinish: string (nullable = true)\n",
      " |-- GarageCars: string (nullable = true)\n",
      " |-- GarageArea: string (nullable = true)\n",
      " |-- GarageQual: string (nullable = true)\n",
      " |-- GarageCond: string (nullable = true)\n",
      " |-- PavedDrive: string (nullable = true)\n",
      " |-- WoodDeckSF: integer (nullable = true)\n",
      " |-- OpenPorchSF: integer (nullable = true)\n",
      " |-- EnclosedPorch: integer (nullable = true)\n",
      " |-- 3SsnPorch: integer (nullable = true)\n",
      " |-- ScreenPorch: integer (nullable = true)\n",
      " |-- PoolArea: integer (nullable = true)\n",
      " |-- PoolQC: string (nullable = true)\n",
      " |-- Fence: string (nullable = true)\n",
      " |-- MiscFeature: string (nullable = true)\n",
      " |-- MiscVal: integer (nullable = true)\n",
      " |-- MoSold: integer (nullable = true)\n",
      " |-- YrSold: integer (nullable = true)\n",
      " |-- SaleType: string (nullable = true)\n",
      " |-- SaleCondition: string (nullable = true)\n",
      " |-- SalePrice: integer (nullable = true)\n",
      "\n"
     ]
    }
   ],
   "source": [
    "df.printSchema()"
   ]
  },
  {
   "cell_type": "code",
   "execution_count": 11,
   "id": "b1eec959-3c80-4767-a9e7-a699c922dc2f",
   "metadata": {
    "tags": []
   },
   "outputs": [
    {
     "name": "stdout",
     "output_type": "stream",
     "text": [
      "-RECORD 0-------------\n",
      " Id            | 0    \n",
      " MSSubClass    | 0    \n",
      " MSZoning      | 0    \n",
      " LotFrontage   | 0    \n",
      " LotArea       | 0    \n",
      " Street        | 0    \n",
      " Alley         | 0    \n",
      " LotShape      | 0    \n",
      " LandContour   | 0    \n",
      " Utilities     | 0    \n",
      " LotConfig     | 0    \n",
      " LandSlope     | 0    \n",
      " Neighborhood  | 0    \n",
      " Condition1    | 0    \n",
      " Condition2    | 0    \n",
      " BldgType      | 0    \n",
      " HouseStyle    | 0    \n",
      " OverallQual   | 0    \n",
      " OverallCond   | 0    \n",
      " YearBuilt     | 0    \n",
      " YearRemodAdd  | 0    \n",
      " RoofStyle     | 0    \n",
      " RoofMatl      | 0    \n",
      " Exterior1st   | 0    \n",
      " Exterior2nd   | 0    \n",
      " MasVnrType    | 0    \n",
      " MasVnrArea    | 0    \n",
      " ExterQual     | 0    \n",
      " ExterCond     | 0    \n",
      " Foundation    | 0    \n",
      " BsmtQual      | 0    \n",
      " BsmtCond      | 0    \n",
      " BsmtExposure  | 0    \n",
      " BsmtFinType1  | 0    \n",
      " BsmtFinSF1    | 0    \n",
      " BsmtFinType2  | 0    \n",
      " BsmtFinSF2    | 0    \n",
      " BsmtUnfSF     | 0    \n",
      " TotalBsmtSF   | 0    \n",
      " Heating       | 0    \n",
      " HeatingQC     | 0    \n",
      " CentralAir    | 0    \n",
      " Electrical    | 0    \n",
      " 1stFlrSF      | 0    \n",
      " 2ndFlrSF      | 0    \n",
      " LowQualFinSF  | 0    \n",
      " GrLivArea     | 0    \n",
      " BsmtFullBath  | 0    \n",
      " BsmtHalfBath  | 0    \n",
      " FullBath      | 0    \n",
      " HalfBath      | 0    \n",
      " BedroomAbvGr  | 0    \n",
      " KitchenAbvGr  | 0    \n",
      " KitchenQual   | 0    \n",
      " TotRmsAbvGrd  | 0    \n",
      " Functional    | 0    \n",
      " Fireplaces    | 0    \n",
      " FireplaceQu   | 0    \n",
      " GarageType    | 0    \n",
      " GarageYrBlt   | 0    \n",
      " GarageFinish  | 0    \n",
      " GarageCars    | 0    \n",
      " GarageArea    | 0    \n",
      " GarageQual    | 0    \n",
      " GarageCond    | 0    \n",
      " PavedDrive    | 0    \n",
      " WoodDeckSF    | 0    \n",
      " OpenPorchSF   | 0    \n",
      " EnclosedPorch | 0    \n",
      " 3SsnPorch     | 0    \n",
      " ScreenPorch   | 0    \n",
      " PoolArea      | 0    \n",
      " PoolQC        | 0    \n",
      " Fence         | 0    \n",
      " MiscFeature   | 0    \n",
      " MiscVal       | 0    \n",
      " MoSold        | 0    \n",
      " YrSold        | 0    \n",
      " SaleType      | 0    \n",
      " SaleCondition | 0    \n",
      " SalePrice     | 1459 \n",
      "\n"
     ]
    }
   ],
   "source": [
    "df.select([func.count(func.when(df[c].isNull() | func.isnan(df[c]), c)).alias(c) for c in df.columns]).show(vertical=True)"
   ]
  },
  {
   "cell_type": "markdown",
   "id": "8bdef209-9d1d-47cd-934e-6d3dc6bfd4ab",
   "metadata": {},
   "source": [
    "## Pre-processing"
   ]
  },
  {
   "cell_type": "markdown",
   "id": "7c1d6bee-22eb-49f2-8c6d-188649ecb2c2",
   "metadata": {
    "tags": []
   },
   "source": [
    "### Changing awful names of columns and transforming the data"
   ]
  },
  {
   "cell_type": "markdown",
   "id": "de564764-24c1-4d6c-a0a1-d1d42ecb6497",
   "metadata": {},
   "source": [
    "#### Changing MSSubClass column"
   ]
  },
  {
   "cell_type": "code",
   "execution_count": 12,
   "id": "3a65521f-5da0-4f0d-8d69-c2618039fe54",
   "metadata": {
    "tags": []
   },
   "outputs": [],
   "source": [
    "col = 'MSSubClass'\n",
    "dict_map = {20: '1-STORY 1946 & NEWER ALL STYLES', 30: '1-STORY 1945 & OLDER', 40: '1-STORY W/FINISHED ATTIC ALL AGES', 45: '1-1/2 STORY - UNFINISHED ALL AGES',\n",
    " 50: '1-1/2 STORY FINISHED ALL AGES', 60: '2-STORY 1946 & NEWER', 70: '2-STORY 1945 & OLDER', 75: '2-1/2 STORY ALL AGES', 80: 'SPLIT OR MULTI-LEVEL', \n",
    " 85: 'SPLIT FOYER', 90: 'DUPLEX - ALL STYLES AND AGES', 120: '1-STORY PUD (Planned Unit Development) - 1946 & NEWER', 150: '1-1/2 STORY PUD - ALL AGES',\n",
    " 160: '2-STORY PUD - 1946 & NEWER', 180: 'PUD - MULTILEVEL - INCL SPLIT LEV/FOYER', 190: '2 FAMILY CONVERSION - ALL STYLES AND AGES'}\n",
    "\n",
    "user_func =  func.udf(lambda x: dict_map.get(x))#, StringType()\n",
    "df = df.withColumn(col, user_func(df[col])).withColumnRenamed(col, 'DwellingType')"
   ]
  },
  {
   "cell_type": "markdown",
   "id": "76f30f98-226f-4937-838c-73fdec774cbb",
   "metadata": {},
   "source": [
    "#### Changing MSZoning column"
   ]
  },
  {
   "cell_type": "code",
   "execution_count": 13,
   "id": "fa3a81a6-7cf5-49ce-8582-1b0610455b6e",
   "metadata": {
    "tags": []
   },
   "outputs": [
    {
     "name": "stdout",
     "output_type": "stream",
     "text": [
      "+--------+\n",
      "|MSZoning|\n",
      "+--------+\n",
      "| C (all)|\n",
      "|      RH|\n",
      "|      FV|\n",
      "|      RL|\n",
      "|      RM|\n",
      "|      NA|\n",
      "+--------+\n",
      "\n"
     ]
    }
   ],
   "source": [
    "col = 'MSZoning'\n",
    "df.select(col).distinct().show()"
   ]
  },
  {
   "cell_type": "code",
   "execution_count": 14,
   "id": "e032c52d-ef55-426a-80cd-8b7698bad349",
   "metadata": {
    "tags": []
   },
   "outputs": [],
   "source": [
    "dict_map = {'A': 'Agriculture', 'C (all)': 'Commercial', 'FV': 'Floating Village Residential', 'I': 'Industrial', 'RH': 'Residential High Density',\n",
    " 'RL': 'Residential Low Density', 'RP': 'Residential Low Density Park', 'RM': 'Residential Medium Density', 'NA': 'NA'}\n",
    "\n",
    "user_func =  func.udf(lambda x: dict_map.get(x), StringType())\n",
    "df = df.withColumn(col, user_func(df[col])).withColumnRenamed(col, 'ZoneType')"
   ]
  },
  {
   "cell_type": "markdown",
   "id": "fa8e7ccb-2efe-4d0e-a94b-925109482394",
   "metadata": {},
   "source": [
    "#### Changing Street column"
   ]
  },
  {
   "cell_type": "code",
   "execution_count": 15,
   "id": "8f435466-7c7b-4a4c-8ad6-36e8eb18eb91",
   "metadata": {
    "tags": []
   },
   "outputs": [],
   "source": [
    "col = 'Street'\n",
    "dict_map = {'Pave': 'Paved', 'Grvl': 'Grovel'}\n",
    "\n",
    "user_func =  func.udf(lambda x: dict_map.get(x), StringType())\n",
    "df = df.withColumn(col, user_func(df[col]))"
   ]
  },
  {
   "cell_type": "markdown",
   "id": "bc871cd1-78ff-4d3f-aec4-3154fde076f4",
   "metadata": {},
   "source": [
    "#### Changing Alley column"
   ]
  },
  {
   "cell_type": "code",
   "execution_count": 16,
   "id": "aba7342f-f61d-4fa4-8220-a4dc56648f04",
   "metadata": {
    "tags": []
   },
   "outputs": [],
   "source": [
    "col = 'Alley'\n",
    "dict_map = {'Pave': 'Paved', 'Grvl': 'Grovel', 'NA': 'Not Alley Access'}\n",
    "\n",
    "user_func =  func.udf(lambda x: dict_map.get(x), StringType())\n",
    "df = df.withColumn(col, user_func(df[col]))"
   ]
  },
  {
   "cell_type": "markdown",
   "id": "35e3f242-59fa-4255-b86a-ae20fc051c32",
   "metadata": {},
   "source": [
    "#### Changing LotShape column"
   ]
  },
  {
   "cell_type": "code",
   "execution_count": 17,
   "id": "fb67d62c-4bf2-49de-a592-6e0c40ba4e78",
   "metadata": {
    "tags": []
   },
   "outputs": [],
   "source": [
    "col = 'LotShape'\n",
    "dict_map = {'Reg': 'Regular', 'IR1': 'Slightly irregular', 'IR2': 'Moderately Irregular', 'IR3': 'Irregular'}\n",
    "\n",
    "user_func =  func.udf(lambda x: dict_map.get(x), StringType())\n",
    "df = df.withColumn(col, user_func(df[col]))"
   ]
  },
  {
   "cell_type": "markdown",
   "id": "8dfdacb0-69bf-446f-b8f4-ed9ddd671eb5",
   "metadata": {},
   "source": [
    "#### Changing LandContour column"
   ]
  },
  {
   "cell_type": "code",
   "execution_count": 18,
   "id": "696264b4-0bcd-4dcd-938b-06d308da5db0",
   "metadata": {
    "tags": []
   },
   "outputs": [],
   "source": [
    "col = 'LandContour'\n",
    "dict_map = {'Lvl': 'Near Flat/Level', 'Bnk': 'Banked', 'HLS': 'Hillside', 'Low': 'Depression'}\n",
    "\n",
    "user_func =  func.udf(lambda x: dict_map.get(x), StringType())\n",
    "df = df.withColumn(col, user_func(df[col])).withColumnRenamed(col, 'Flatness')"
   ]
  },
  {
   "cell_type": "markdown",
   "id": "c5ae52dc-7412-44d5-8c29-e61a4e7707c4",
   "metadata": {},
   "source": [
    "#### Changing Utilities column"
   ]
  },
  {
   "cell_type": "code",
   "execution_count": 19,
   "id": "4589644b-5710-481e-8293-b06b9872c3de",
   "metadata": {
    "tags": []
   },
   "outputs": [
    {
     "name": "stdout",
     "output_type": "stream",
     "text": [
      "+---------+\n",
      "|Utilities|\n",
      "+---------+\n",
      "|   NoSeWa|\n",
      "|   AllPub|\n",
      "|       NA|\n",
      "+---------+\n",
      "\n"
     ]
    }
   ],
   "source": [
    "col = 'Utilities'\n",
    "df[[col]].distinct().show()"
   ]
  },
  {
   "cell_type": "code",
   "execution_count": 20,
   "id": "8593fd2b-fe8d-49f3-924f-14dd2953c4d8",
   "metadata": {
    "tags": []
   },
   "outputs": [],
   "source": [
    "col = 'Utilities'\n",
    "dict_map = {'AllPub': 'All public Utilities', 'NoSewr': 'Electricity, Gas and Water', 'NoSeWa': 'Electricity and Gas Only', 'ELO': 'Electricity Only', 'NA': 'NA'}\n",
    "\n",
    "user_func =  func.udf(lambda x: dict_map.get(x), StringType())\n",
    "df = df.withColumn(col, user_func(df[col]))"
   ]
  },
  {
   "cell_type": "markdown",
   "id": "c8d05b79-6d91-497b-adf9-682b9fc05f2d",
   "metadata": {},
   "source": [
    "#### Changing LandSlope column"
   ]
  },
  {
   "cell_type": "code",
   "execution_count": 21,
   "id": "29fee592-e6d1-4dea-93d3-8cef673177c0",
   "metadata": {
    "tags": []
   },
   "outputs": [],
   "source": [
    "col = 'LandSlope'\n",
    "dict_map = {'Gtl': 'Gentle', 'Mod': 'Moderate', 'Sev': 'Severe'}\n",
    "\n",
    "user_func =  func.udf(lambda x: dict_map.get(x), StringType())\n",
    "df = df.withColumn(col, user_func(df[col]))"
   ]
  },
  {
   "cell_type": "markdown",
   "id": "12468212-db1a-4b2d-9c1b-d5beaecff084",
   "metadata": {},
   "source": [
    "#### Changing BldgType column"
   ]
  },
  {
   "cell_type": "code",
   "execution_count": 22,
   "id": "54a556a6-83d5-4706-8127-b527435719d2",
   "metadata": {
    "tags": []
   },
   "outputs": [
    {
     "name": "stdout",
     "output_type": "stream",
     "text": [
      "+--------+\n",
      "|BldgType|\n",
      "+--------+\n",
      "|   Twnhs|\n",
      "|    1Fam|\n",
      "|  Duplex|\n",
      "|  2fmCon|\n",
      "|  TwnhsE|\n",
      "+--------+\n",
      "\n"
     ]
    }
   ],
   "source": [
    "col = 'BldgType'\n",
    "df.select(col).distinct().show()"
   ]
  },
  {
   "cell_type": "code",
   "execution_count": 23,
   "id": "83f6d1d2-b9de-4d7b-aaa1-2f6540bc25df",
   "metadata": {
    "tags": []
   },
   "outputs": [],
   "source": [
    "dict_map = {'1Fam': 'Single-family Detached', '2fmCon': 'Two-family Conversion', 'Duplex': 'Duplex', 'TwnhsE': 'Townhouse End Unit', 'Twnhs': 'Townhouse Inside Unit'}\n",
    "\n",
    "user_func =  func.udf(lambda x: dict_map.get(x), StringType())\n",
    "df = df.withColumn(col, user_func(df[col])).withColumnRenamed(col, 'BuildingType')"
   ]
  },
  {
   "cell_type": "markdown",
   "id": "b711e24d-74bd-4033-a385-74d47bf55133",
   "metadata": {},
   "source": [
    "#### Changing RoofMatl column"
   ]
  },
  {
   "cell_type": "code",
   "execution_count": 24,
   "id": "a2c372b4-205d-479c-8886-15173c7be789",
   "metadata": {
    "tags": []
   },
   "outputs": [],
   "source": [
    "col = 'RoofMatl'\n",
    "dict_map = {'ClyTile': 'Single-family Detached', 'CompShg': 'Two-family Conversion', 'Membran': 'Duplex', 'Metal': 'Metal', 'Roll': 'Roll', 'Tar&Grv': 'Gravel & Tar',\n",
    "            'WdShake': 'Wood Shake', 'WdShngl': 'Wood Shingles'}\n",
    "\n",
    "user_func =  func.udf(lambda x: dict_map.get(x), StringType())\n",
    "df = df.withColumn(col, user_func(df[col])).withColumnRenamed(col, 'RoofMaterial')"
   ]
  },
  {
   "cell_type": "markdown",
   "id": "30af7a10-d896-483f-ad60-57ac88954aac",
   "metadata": {},
   "source": [
    "#### Changing Exterior1st column"
   ]
  },
  {
   "cell_type": "code",
   "execution_count": 25,
   "id": "6b4a5eb7-5b60-4e0f-ab5a-128d81b0869e",
   "metadata": {
    "tags": []
   },
   "outputs": [
    {
     "name": "stdout",
     "output_type": "stream",
     "text": [
      "+-----------+\n",
      "|Exterior1st|\n",
      "+-----------+\n",
      "|    HdBoard|\n",
      "|    CemntBd|\n",
      "|    AsphShn|\n",
      "|    WdShing|\n",
      "|    Plywood|\n",
      "|    ImStucc|\n",
      "|    Wd Sdng|\n",
      "|     Stucco|\n",
      "|    MetalSd|\n",
      "|      Stone|\n",
      "|    AsbShng|\n",
      "|    BrkComm|\n",
      "|    BrkFace|\n",
      "|     CBlock|\n",
      "|    VinylSd|\n",
      "|         NA|\n",
      "+-----------+\n",
      "\n"
     ]
    }
   ],
   "source": [
    "col = 'Exterior1st'\n",
    "df.select(col).distinct().show()"
   ]
  },
  {
   "cell_type": "code",
   "execution_count": 26,
   "id": "175ca4fe",
   "metadata": {
    "tags": []
   },
   "outputs": [],
   "source": [
    "dict_map = {'AsbShng': 'Asbestos Shingles', 'AsphShn': 'Asphalt Shingles', 'BrkComm': 'Brick Common', 'BrkFace': 'Brick Face', 'CBlock': 'Cinder Block', 'CemntBd': 'Cement Board',\n",
    "            'HdBoard': 'Hard Board', 'ImStucc': 'Imitation Stucco', 'MetalSd': 'Metal Siding', 'Other': 'Other', 'Plywood': 'Plywood', 'PreCast': 'PreCast', 'Stone': 'Stone', \n",
    "            'Stucco': 'Stucco', 'VinylSd': 'Vinyl Siding', 'Wd Sdng': 'Wood Siding', 'WdShing': 'Wood Shingles', 'NA': 'NA'}\n",
    "\n",
    "user_func =  func.udf(lambda x: dict_map.get(x), StringType())\n",
    "df = df.withColumn(col, user_func(df[col]))"
   ]
  },
  {
   "cell_type": "markdown",
   "id": "2692180b-a8c0-467f-92a9-12cbdb64129a",
   "metadata": {},
   "source": [
    "#### Changing Exterior2nd column"
   ]
  },
  {
   "cell_type": "code",
   "execution_count": 27,
   "id": "6aef83df-7c1d-4b8f-bab4-ba66cdd4cf86",
   "metadata": {
    "tags": []
   },
   "outputs": [
    {
     "name": "stdout",
     "output_type": "stream",
     "text": [
      "+-----------+\n",
      "|Exterior2nd|\n",
      "+-----------+\n",
      "|    CmentBd|\n",
      "|    HdBoard|\n",
      "|    AsphShn|\n",
      "|      Other|\n",
      "|    Plywood|\n",
      "|    Wd Shng|\n",
      "|    ImStucc|\n",
      "|    Wd Sdng|\n",
      "|     Stucco|\n",
      "|    MetalSd|\n",
      "|      Stone|\n",
      "|    AsbShng|\n",
      "|    Brk Cmn|\n",
      "|    BrkFace|\n",
      "|     CBlock|\n",
      "|    VinylSd|\n",
      "|         NA|\n",
      "+-----------+\n",
      "\n"
     ]
    }
   ],
   "source": [
    "col = 'Exterior2nd'\n",
    "df.select(col).distinct().show()"
   ]
  },
  {
   "cell_type": "code",
   "execution_count": 28,
   "id": "a3a1dfc2",
   "metadata": {
    "tags": []
   },
   "outputs": [],
   "source": [
    "col = 'Exterior2nd'\n",
    "dict_map = {'AsbShng': 'Asbestos Shingles', 'AsphShn': 'Asphalt Shingles', 'Brk Cmn': 'Brick Common', 'BrkFace': 'Brick Face', 'CBlock': 'Cinder Block', 'CmentBd': 'Cement Board',\n",
    "            'HdBoard': 'Hard Board', 'ImStucc': 'Imitation Stucco', 'MetalSd': 'Metal Siding', 'Other': 'Other', 'Plywood': 'Plywood', 'PreCast': 'PreCast', 'Stone': 'Stone', \n",
    "            'Stucco': 'Stucco', 'VinylSd': 'Vinyl Siding', 'Wd Sdng': 'Wood Siding', 'Wd Shng': 'Wood Shingles', 'NA': 'NA'}\n",
    "\n",
    "user_func =  func.udf(lambda x: dict_map.get(x), StringType())\n",
    "df = df.withColumn(col, user_func(df[col]))"
   ]
  },
  {
   "cell_type": "markdown",
   "id": "ff4722f6-1281-4c01-82b2-f34d101f0556",
   "metadata": {},
   "source": [
    "#### Changing MasVnrType column"
   ]
  },
  {
   "cell_type": "code",
   "execution_count": 29,
   "id": "911866f1-7240-4929-9608-eea0eb8155df",
   "metadata": {
    "tags": []
   },
   "outputs": [
    {
     "name": "stdout",
     "output_type": "stream",
     "text": [
      "+----------+\n",
      "|MasVnrType|\n",
      "+----------+\n",
      "|      None|\n",
      "|    BrkCmn|\n",
      "|        NA|\n",
      "|     Stone|\n",
      "|   BrkFace|\n",
      "+----------+\n",
      "\n"
     ]
    }
   ],
   "source": [
    "col = 'MasVnrType'\n",
    "df.select(col).distinct().show()"
   ]
  },
  {
   "cell_type": "code",
   "execution_count": 30,
   "id": "00185f76",
   "metadata": {
    "tags": []
   },
   "outputs": [],
   "source": [
    "dict_map = {'BrkCmn': 'Brick Common', 'BrkFace': 'Brick Face', 'CBlock': 'Cinder Block', 'None': 'None', 'Stone': 'Stone', 'NA': 'NA'}\n",
    "\n",
    "user_func =  func.udf(lambda x: dict_map.get(x), StringType())\n",
    "df = df.withColumn(col, user_func(df[col])).withColumnRenamed(col, 'MasonryVeneerType')"
   ]
  },
  {
   "cell_type": "markdown",
   "id": "283d2b2d-fd37-47fb-9888-b30c1a0159cf",
   "metadata": {},
   "source": [
    "#### Changing ExterQual column"
   ]
  },
  {
   "cell_type": "code",
   "execution_count": 31,
   "id": "fac9a6be",
   "metadata": {
    "tags": []
   },
   "outputs": [],
   "source": [
    "col = 'ExterQual'\n",
    "dict_map = {'Po': 0, 'Fa': 1, 'TA': 2, 'Gd': 3, 'Ex': 4}\n",
    "\n",
    "user_func =  func.udf(lambda x: dict_map.get(x), IntegerType())\n",
    "df = df.withColumn(col, user_func(df[col])).withColumnRenamed(col, 'ExteriorQuality')"
   ]
  },
  {
   "cell_type": "markdown",
   "id": "593ba56f-490a-4859-96c7-7d6d727e625d",
   "metadata": {},
   "source": [
    "#### Changing ExterCond column"
   ]
  },
  {
   "cell_type": "code",
   "execution_count": 32,
   "id": "106e4cc6",
   "metadata": {
    "tags": []
   },
   "outputs": [],
   "source": [
    "col = 'ExterCond'\n",
    "dict_map = {'Po': 0, 'Fa': 1, 'TA': 2, 'Gd': 3, 'Ex': 4}\n",
    "\n",
    "user_func =  func.udf(lambda x: dict_map.get(x), IntegerType())\n",
    "df = df.withColumn(col, user_func(df[col])).withColumnRenamed(col, 'ExteriorCondition')"
   ]
  },
  {
   "cell_type": "markdown",
   "id": "e62725fc-0b61-4ffe-9606-64efeb36b499",
   "metadata": {},
   "source": [
    "#### Changing Foundation column"
   ]
  },
  {
   "cell_type": "code",
   "execution_count": 33,
   "id": "27013f44",
   "metadata": {
    "tags": []
   },
   "outputs": [],
   "source": [
    "col = 'Foundation'\n",
    "dict_map = {'BrkTil': 'Brick & Tile', 'PConc': 'Poured Contrete', 'CBlock': 'Cinder Block', 'Slab': 'Slab', 'Stone': 'Stone', 'Wood': 'Wood'}\n",
    "\n",
    "user_func =  func.udf(lambda x: dict_map.get(x), StringType())\n",
    "df = df.withColumn(col, user_func(df[col]))"
   ]
  },
  {
   "cell_type": "markdown",
   "id": "f423cfed-19bf-4976-aee3-d2189aacf0ff",
   "metadata": {},
   "source": [
    "#### Changing BsmtQual column"
   ]
  },
  {
   "cell_type": "code",
   "execution_count": 34,
   "id": "529303c1",
   "metadata": {
    "tags": []
   },
   "outputs": [],
   "source": [
    "col = 'BsmtQual'\n",
    "dict_map = {'NA': 0, 'Po': 1, 'Fa': 2, 'TA': 3, 'Gd': 4, 'Ex': 5}\n",
    "\n",
    "user_func =  func.udf(lambda x: dict_map.get(x), IntegerType())\n",
    "df = df.withColumn(col, user_func(df[col])).withColumnRenamed(col, 'BasementQuality')"
   ]
  },
  {
   "cell_type": "markdown",
   "id": "e016db1a-04fe-4265-a425-fdd0ec9b729d",
   "metadata": {},
   "source": [
    "#### Changing BsmtCond column"
   ]
  },
  {
   "cell_type": "code",
   "execution_count": 35,
   "id": "47a7f566",
   "metadata": {
    "tags": []
   },
   "outputs": [],
   "source": [
    "col = 'BsmtCond'\n",
    "dict_map = {'NA': 0, 'Po': 1, 'Fa': 2, 'TA': 3, 'Gd': 4, 'Ex': 5}\n",
    "\n",
    "user_func =  func.udf(lambda x: dict_map.get(x), IntegerType())\n",
    "df = df.withColumn(col, user_func(df[col])).withColumnRenamed(col, 'BasementCondition')"
   ]
  },
  {
   "cell_type": "markdown",
   "id": "a03a1403-fd19-4f08-ab0f-6053c6ffde3d",
   "metadata": {},
   "source": [
    "#### Changing BsmtExposure column"
   ]
  },
  {
   "cell_type": "code",
   "execution_count": 36,
   "id": "1362ae67-baa5-4644-b3b7-3852418e9b90",
   "metadata": {
    "tags": []
   },
   "outputs": [
    {
     "name": "stdout",
     "output_type": "stream",
     "text": [
      "+------------+\n",
      "|BsmtExposure|\n",
      "+------------+\n",
      "|          Gd|\n",
      "|          NA|\n",
      "|          Mn|\n",
      "|          No|\n",
      "|          Av|\n",
      "+------------+\n",
      "\n"
     ]
    }
   ],
   "source": [
    "col = 'BsmtExposure'\n",
    "df.select(col).distinct().show()"
   ]
  },
  {
   "cell_type": "code",
   "execution_count": 37,
   "id": "f3a03603",
   "metadata": {
    "tags": []
   },
   "outputs": [],
   "source": [
    "dict_map = {'NA': 0, 'No': 1, 'Mn': 2, 'Av': 3, 'Gd': 4}\n",
    "\n",
    "user_func =  func.udf(lambda x: dict_map.get(x), IntegerType())\n",
    "df = df.withColumn(col, user_func(df[col])).withColumnRenamed(col, 'BasementExposure')"
   ]
  },
  {
   "cell_type": "markdown",
   "id": "eb3c8180-946b-4ca1-9d52-0a8c054e0ecf",
   "metadata": {},
   "source": [
    "#### Changing BsmtFinType1 column"
   ]
  },
  {
   "cell_type": "code",
   "execution_count": 38,
   "id": "295f6e4b",
   "metadata": {
    "tags": []
   },
   "outputs": [],
   "source": [
    "col = 'BsmtFinType1'\n",
    "dict_map = {'NA': 'No Basement', 'Unf': 'Unfinshed', 'LwQ': 'Low Quality', 'BLQ': 'Below Average Living Quarters', 'Rec': 'Average Rec Room', 'ALQ': 'Average Living Quarters', 'GLQ': 'Good Living Quarters'}\n",
    "\n",
    "user_func =  func.udf(lambda x: dict_map.get(x), StringType())\n",
    "df = df.withColumn(col, user_func(df[col])).withColumnRenamed(col, 'BasementFinishedType1')"
   ]
  },
  {
   "cell_type": "markdown",
   "id": "df0beaf5",
   "metadata": {},
   "source": [
    "#### Changing BsmtFinType2 column"
   ]
  },
  {
   "cell_type": "code",
   "execution_count": 39,
   "id": "3286b422",
   "metadata": {
    "tags": []
   },
   "outputs": [],
   "source": [
    "col = 'BsmtFinType2'\n",
    "dict_map = {'NA': 'No Basement', 'Unf': 'Unfinshed', 'LwQ': 'Low Quality', 'BLQ': 'Below Average Living Quarters', 'Rec': 'Average Rec Room', 'ALQ': 'Average Living Quarters', 'GLQ': 'Good Living Quarters'}\n",
    "\n",
    "user_func =  func.udf(lambda x: dict_map.get(x), StringType())\n",
    "df = df.withColumn(col, user_func(df[col])).withColumnRenamed(col, 'BasementFinishedType2')"
   ]
  },
  {
   "cell_type": "markdown",
   "id": "ca2c3286",
   "metadata": {},
   "source": [
    "#### Changing CentralAir column"
   ]
  },
  {
   "cell_type": "code",
   "execution_count": 40,
   "id": "6f3bf5d9",
   "metadata": {
    "tags": []
   },
   "outputs": [],
   "source": [
    "col = 'CentralAir'\n",
    "dict_map = {'N': 0, 'Y': 1}\n",
    "\n",
    "user_func =  func.udf(lambda x: dict_map.get(x), IntegerType())\n",
    "df = df.withColumn(col, user_func(df[col]))"
   ]
  },
  {
   "cell_type": "markdown",
   "id": "df70f5f6",
   "metadata": {},
   "source": [
    "#### Changing HeatingQC column"
   ]
  },
  {
   "cell_type": "code",
   "execution_count": 41,
   "id": "4e6dbcc3",
   "metadata": {
    "tags": []
   },
   "outputs": [],
   "source": [
    "col = 'HeatingQC'\n",
    "dict_map = {'Po': 0, 'Fa': 1, 'TA': 2, 'Gd': 3, 'Ex': 4}\n",
    "\n",
    "user_func =  func.udf(lambda x: dict_map.get(x), IntegerType())\n",
    "df = df.withColumn(col, user_func(df[col]))"
   ]
  },
  {
   "cell_type": "markdown",
   "id": "ab87db88",
   "metadata": {},
   "source": [
    "#### Changing KitchenQual column"
   ]
  },
  {
   "cell_type": "code",
   "execution_count": 42,
   "id": "cb8a8962-31b2-4bdb-a5f7-f85ec0d8bafc",
   "metadata": {
    "tags": []
   },
   "outputs": [
    {
     "name": "stdout",
     "output_type": "stream",
     "text": [
      "+-----------+\n",
      "|KitchenQual|\n",
      "+-----------+\n",
      "|         Gd|\n",
      "|         Ex|\n",
      "|         Fa|\n",
      "|         TA|\n",
      "|         NA|\n",
      "+-----------+\n",
      "\n"
     ]
    }
   ],
   "source": [
    "col = 'KitchenQual'\n",
    "df.select(col).distinct().show()"
   ]
  },
  {
   "cell_type": "code",
   "execution_count": 43,
   "id": "6be4772d",
   "metadata": {
    "tags": []
   },
   "outputs": [],
   "source": [
    "dict_map = {'Po': 0, 'Fa': 1, 'TA': 2, 'Gd': 3, 'Ex': 4, 'NA': 0}\n",
    "\n",
    "user_func =  func.udf(lambda x: dict_map.get(x), IntegerType())\n",
    "df = df.withColumn(col, user_func(df[col])).withColumnRenamed(col, 'KitchenQuality')"
   ]
  },
  {
   "cell_type": "markdown",
   "id": "0f424384",
   "metadata": {},
   "source": [
    "#### Changing FireplaceQu column"
   ]
  },
  {
   "cell_type": "code",
   "execution_count": 44,
   "id": "6eeafcd3",
   "metadata": {
    "tags": []
   },
   "outputs": [],
   "source": [
    "col = 'FireplaceQu'\n",
    "dict_map = {'NA': 0, 'Po': 1, 'Fa': 2, 'TA': 3, 'Gd': 4, 'Ex': 5}\n",
    "\n",
    "user_func =  func.udf(lambda x: dict_map.get(x), IntegerType())\n",
    "df = df.withColumn(col, user_func(df[col])).withColumnRenamed(col, 'FireplaceQuality')"
   ]
  },
  {
   "cell_type": "markdown",
   "id": "9a7bde79",
   "metadata": {},
   "source": [
    "#### Changing GarageFinish column"
   ]
  },
  {
   "cell_type": "code",
   "execution_count": 45,
   "id": "515e8679",
   "metadata": {
    "tags": []
   },
   "outputs": [],
   "source": [
    "col = 'GarageFinish'\n",
    "dict_map = {'NA': 0, 'Unf': 1, 'RFn': 2, 'Fin': 3}\n",
    "\n",
    "user_func =  func.udf(lambda x: dict_map.get(x), IntegerType())\n",
    "df = df.withColumn(col, user_func(df[col]))"
   ]
  },
  {
   "cell_type": "markdown",
   "id": "da7cae03",
   "metadata": {},
   "source": [
    "#### Changing GarageQual column"
   ]
  },
  {
   "cell_type": "code",
   "execution_count": 46,
   "id": "68f6b3eb",
   "metadata": {
    "tags": []
   },
   "outputs": [],
   "source": [
    "col = 'GarageQual'\n",
    "dict_map = {'NA': 0, 'Po': 1, 'Fa': 2, 'TA': 3, 'Gd': 4, 'Ex': 5}\n",
    "\n",
    "user_func =  func.udf(lambda x: dict_map.get(x), IntegerType())\n",
    "df = df.withColumn(col, user_func(df[col])).withColumnRenamed(col, 'GarageQuality')"
   ]
  },
  {
   "cell_type": "markdown",
   "id": "9690a089-64ac-4079-8b76-f487d605c9ae",
   "metadata": {},
   "source": [
    "#### Changing FarageCond column"
   ]
  },
  {
   "cell_type": "code",
   "execution_count": 47,
   "id": "35e8295f-347e-437b-aa94-2fb1babb3d1a",
   "metadata": {
    "tags": []
   },
   "outputs": [],
   "source": [
    "col = 'GarageCond'\n",
    "dict_map = {'NA': 0, 'Po': 1, 'Fa': 2, 'TA': 3, 'Gd': 4, 'Ex': 5}\n",
    "\n",
    "user_func =  func.udf(lambda x: dict_map.get(x), IntegerType())\n",
    "df = df.withColumn(col, user_func(df[col])).withColumnRenamed(col, 'GarageCondition')"
   ]
  },
  {
   "cell_type": "markdown",
   "id": "2f80cd9a",
   "metadata": {},
   "source": [
    "#### Changing PavedDrive column"
   ]
  },
  {
   "cell_type": "code",
   "execution_count": 48,
   "id": "52cc2cda",
   "metadata": {
    "tags": []
   },
   "outputs": [],
   "source": [
    "col = 'PavedDrive'\n",
    "dict_map = {'N': 0, 'P': 1, 'Y': 2}\n",
    "\n",
    "user_func =  func.udf(lambda x: dict_map.get(x), IntegerType())\n",
    "df = df.withColumn(col, user_func(df[col]))"
   ]
  },
  {
   "cell_type": "markdown",
   "id": "764cc1e7",
   "metadata": {},
   "source": [
    "#### Changing PoolQC column"
   ]
  },
  {
   "cell_type": "code",
   "execution_count": 49,
   "id": "fd57971e",
   "metadata": {
    "tags": []
   },
   "outputs": [],
   "source": [
    "col = 'PoolQC'\n",
    "dict_map = {'NA': 0, 'Fa': 1, 'TA': 2, 'Gd': 3, 'Ex': 4}\n",
    "\n",
    "user_func =  func.udf(lambda x: dict_map.get(x), IntegerType())\n",
    "df = df.withColumn(col, user_func(df[col])).withColumnRenamed(col, 'PoolQuality')"
   ]
  },
  {
   "cell_type": "markdown",
   "id": "fa55260d",
   "metadata": {},
   "source": [
    "#### Changing Fence column"
   ]
  },
  {
   "cell_type": "code",
   "execution_count": 50,
   "id": "2442fdae",
   "metadata": {
    "tags": []
   },
   "outputs": [],
   "source": [
    "col = 'Fence'\n",
    "dict_map = {'GdPrv': 'Good Privacy', 'MnPrv': 'Minimum Privacy', 'GdWo': 'Good Wood', 'MnWw': 'Minimum Wood/Wire', 'NA': 'No Fance'}\n",
    "\n",
    "user_func =  func.udf(lambda x: dict_map.get(x), StringType())\n",
    "df = df.withColumn(col, user_func(df[col]))"
   ]
  },
  {
   "cell_type": "markdown",
   "id": "9886e0af",
   "metadata": {},
   "source": [
    "#### Changing MiscFeature column"
   ]
  },
  {
   "cell_type": "code",
   "execution_count": 51,
   "id": "91c0a854",
   "metadata": {
    "tags": []
   },
   "outputs": [],
   "source": [
    "col = 'MiscFeature'\n",
    "dict_map = {'Elev': 'Elevator', 'Gar2': '2nd Garage', 'Othr': 'Other', 'Shed': 'Shed', 'TenC': 'Tennis Court', 'NA': 'None'}\n",
    "\n",
    "user_func =  func.udf(lambda x: dict_map.get(x), StringType())\n",
    "df = df.withColumn(col, user_func(df[col]))"
   ]
  },
  {
   "cell_type": "markdown",
   "id": "5b688516",
   "metadata": {},
   "source": [
    "#### Changing SaleCondition column"
   ]
  },
  {
   "cell_type": "code",
   "execution_count": 52,
   "id": "9d349112",
   "metadata": {
    "tags": []
   },
   "outputs": [],
   "source": [
    "col = 'SaleCondition'\n",
    "dict_map = {'Normal': 'Normal Sale', 'Abnorml': 'Abnormal Sale', 'AdjLand': 'Adjoining Land Purchase', 'Alloca': 'Allocation', 'Family': 'Sale between family members', 'Partial': 'Partial'}\n",
    "\n",
    "user_func =  func.udf(lambda x: dict_map.get(x), StringType())\n",
    "df = df.withColumn(col, user_func(df[col]))"
   ]
  },
  {
   "cell_type": "markdown",
   "id": "418e63a7-969d-457f-844e-ca93d668d57e",
   "metadata": {},
   "source": [
    "#### Simply renaming"
   ]
  },
  {
   "cell_type": "code",
   "execution_count": 53,
   "id": "330be67f-ecee-436d-8d2f-20588359b03e",
   "metadata": {
    "tags": []
   },
   "outputs": [],
   "source": [
    "df = df.withColumnRenamed('OverallQual', 'OverallQuality')\n",
    "df = df.withColumnRenamed('OverallCond', 'OverallConditions')\n",
    "df = df.withColumnRenamed('YearRemodAdd', 'YearRemodel')\n",
    "df = df.withColumnRenamed('MasVnrArea', 'MasonryVeneerArea')\n",
    "df = df.withColumnRenamed('BsmtFinSF1', 'BasementFinishedType1Area')\n",
    "df = df.withColumnRenamed('BsmtFinSF2', 'BasementFinishedType2Area')\n",
    "df = df.withColumnRenamed('LowQualFinSF', 'LowQualityFinishedArea')\n",
    "df = df.withColumnRenamed('GrLivArea', 'AboveGroundLivingArea')\n",
    "df = df.withColumnRenamed('BsmtFullBath', 'BasementFullBathrooms')\n",
    "df = df.withColumnRenamed('BsmtHalfBath', 'BasementHalfBathrooms')\n",
    "df = df.withColumnRenamed('FullBath', 'FullBathrooms')\n",
    "df = df.withColumnRenamed('HalfBath', 'HalfBathrooms')\n",
    "df = df.withColumnRenamed('TotRmsAbvGrd', 'TotalRoomsAboveGround')\n",
    "df = df.withColumnRenamed('3SsnPorch', 'ThreeSeasonPorchArea')"
   ]
  },
  {
   "cell_type": "markdown",
   "id": "fd72236a-c116-4b3f-97a9-93f2c4b82565",
   "metadata": {},
   "source": [
    "#### Changing column type"
   ]
  },
  {
   "cell_type": "code",
   "execution_count": 54,
   "id": "544a9762-618b-43df-ae35-87672accd080",
   "metadata": {
    "tags": []
   },
   "outputs": [],
   "source": [
    "df = df.withColumn(\"GarageYrBlt\", func.col(\"GarageYrBlt\").cast(\"int\"))\n",
    "df = df.withColumn(\"BasementFinishedType1Area\", func.col(\"BasementFinishedType1Area\").cast(\"int\"))\n",
    "df = df.withColumn(\"BasementFinishedType2Area\", func.col(\"BasementFinishedType2Area\").cast(\"int\"))\n",
    "df = df.withColumn(\"LotFrontage\", func.col(\"LotFrontage\").cast(\"int\"))\n",
    "df = df.withColumn(\"MasonryVeneerArea\", func.col(\"MasonryVeneerArea\").cast(\"int\"))\n",
    "df = df.withColumn(\"TotalBsmtSF\", func.col(\"TotalBsmtSF\").cast(\"int\"))\n",
    "df = df.withColumn(\"BsmtUnfSF\", func.col(\"BsmtUnfSF\").cast(\"int\"))\n",
    "df = df.withColumn(\"GarageArea\", func.col(\"GarageArea\").cast(\"int\"))\n",
    "df = df.withColumn(\"GarageCars\", func.col(\"GarageCars\").cast(\"int\"))\n",
    "df = df.withColumn(\"BasementFullBathrooms\", func.col(\"BasementFullBathrooms\").cast(\"int\"))\n",
    "df = df.withColumn(\"BasementHalfBathrooms\", func.col(\"BasementHalfBathrooms\").cast(\"int\"))"
   ]
  },
  {
   "cell_type": "code",
   "execution_count": 55,
   "id": "6905065b-f01c-4fc5-8e03-d258caa3e9f2",
   "metadata": {
    "tags": []
   },
   "outputs": [
    {
     "name": "stdout",
     "output_type": "stream",
     "text": [
      "root\n",
      " |-- Id: integer (nullable = true)\n",
      " |-- DwellingType: string (nullable = true)\n",
      " |-- ZoneType: string (nullable = true)\n",
      " |-- LotFrontage: integer (nullable = true)\n",
      " |-- LotArea: integer (nullable = true)\n",
      " |-- Street: string (nullable = true)\n",
      " |-- Alley: string (nullable = true)\n",
      " |-- LotShape: string (nullable = true)\n",
      " |-- Flatness: string (nullable = true)\n",
      " |-- Utilities: string (nullable = true)\n",
      " |-- LotConfig: string (nullable = true)\n",
      " |-- LandSlope: string (nullable = true)\n",
      " |-- Neighborhood: string (nullable = true)\n",
      " |-- Condition1: string (nullable = true)\n",
      " |-- Condition2: string (nullable = true)\n",
      " |-- BuildingType: string (nullable = true)\n",
      " |-- HouseStyle: string (nullable = true)\n",
      " |-- OverallQuality: integer (nullable = true)\n",
      " |-- OverallConditions: integer (nullable = true)\n",
      " |-- YearBuilt: integer (nullable = true)\n",
      " |-- YearRemodel: integer (nullable = true)\n",
      " |-- RoofStyle: string (nullable = true)\n",
      " |-- RoofMaterial: string (nullable = true)\n",
      " |-- Exterior1st: string (nullable = true)\n",
      " |-- Exterior2nd: string (nullable = true)\n",
      " |-- MasonryVeneerType: string (nullable = true)\n",
      " |-- MasonryVeneerArea: integer (nullable = true)\n",
      " |-- ExteriorQuality: integer (nullable = true)\n",
      " |-- ExteriorCondition: integer (nullable = true)\n",
      " |-- Foundation: string (nullable = true)\n",
      " |-- BasementQuality: integer (nullable = true)\n",
      " |-- BasementCondition: integer (nullable = true)\n",
      " |-- BasementExposure: integer (nullable = true)\n",
      " |-- BasementFinishedType1: string (nullable = true)\n",
      " |-- BasementFinishedType1Area: integer (nullable = true)\n",
      " |-- BasementFinishedType2: string (nullable = true)\n",
      " |-- BasementFinishedType2Area: integer (nullable = true)\n",
      " |-- BsmtUnfSF: integer (nullable = true)\n",
      " |-- TotalBsmtSF: integer (nullable = true)\n",
      " |-- Heating: string (nullable = true)\n",
      " |-- HeatingQC: integer (nullable = true)\n",
      " |-- CentralAir: integer (nullable = true)\n",
      " |-- Electrical: string (nullable = true)\n",
      " |-- 1stFlrSF: integer (nullable = true)\n",
      " |-- 2ndFlrSF: integer (nullable = true)\n",
      " |-- LowQualityFinishedArea: integer (nullable = true)\n",
      " |-- AboveGroundLivingArea: integer (nullable = true)\n",
      " |-- BasementFullBathrooms: integer (nullable = true)\n",
      " |-- BasementHalfBathrooms: integer (nullable = true)\n",
      " |-- FullBathrooms: integer (nullable = true)\n",
      " |-- HalfBathrooms: integer (nullable = true)\n",
      " |-- BedroomAbvGr: integer (nullable = true)\n",
      " |-- KitchenAbvGr: integer (nullable = true)\n",
      " |-- KitchenQuality: integer (nullable = true)\n",
      " |-- TotalRoomsAboveGround: integer (nullable = true)\n",
      " |-- Functional: string (nullable = true)\n",
      " |-- Fireplaces: integer (nullable = true)\n",
      " |-- FireplaceQuality: integer (nullable = true)\n",
      " |-- GarageType: string (nullable = true)\n",
      " |-- GarageYrBlt: integer (nullable = true)\n",
      " |-- GarageFinish: integer (nullable = true)\n",
      " |-- GarageCars: integer (nullable = true)\n",
      " |-- GarageArea: integer (nullable = true)\n",
      " |-- GarageQuality: integer (nullable = true)\n",
      " |-- GarageCondition: integer (nullable = true)\n",
      " |-- PavedDrive: integer (nullable = true)\n",
      " |-- WoodDeckSF: integer (nullable = true)\n",
      " |-- OpenPorchSF: integer (nullable = true)\n",
      " |-- EnclosedPorch: integer (nullable = true)\n",
      " |-- ThreeSeasonPorchArea: integer (nullable = true)\n",
      " |-- ScreenPorch: integer (nullable = true)\n",
      " |-- PoolArea: integer (nullable = true)\n",
      " |-- PoolQuality: integer (nullable = true)\n",
      " |-- Fence: string (nullable = true)\n",
      " |-- MiscFeature: string (nullable = true)\n",
      " |-- MiscVal: integer (nullable = true)\n",
      " |-- MoSold: integer (nullable = true)\n",
      " |-- YrSold: integer (nullable = true)\n",
      " |-- SaleType: string (nullable = true)\n",
      " |-- SaleCondition: string (nullable = true)\n",
      " |-- SalePrice: integer (nullable = true)\n",
      "\n"
     ]
    }
   ],
   "source": [
    "df.printSchema()"
   ]
  },
  {
   "cell_type": "code",
   "execution_count": 56,
   "id": "ffd79e8c-9e51-4938-abf1-66f8448e575b",
   "metadata": {
    "tags": []
   },
   "outputs": [],
   "source": [
    "df = df.drop('Id')"
   ]
  },
  {
   "cell_type": "code",
   "execution_count": 57,
   "id": "3c2b6eb0-3988-4f89-947e-b4c89fed4b55",
   "metadata": {
    "tags": []
   },
   "outputs": [],
   "source": [
    "numeric_cols = [col for col, dtype in df.dtypes if dtype != 'string']\n",
    "string_cols = [col for col, dtype in df.dtypes if dtype == 'string']"
   ]
  },
  {
   "cell_type": "code",
   "execution_count": 58,
   "id": "0a8357fb-d7eb-45e6-bd41-683343b5778f",
   "metadata": {
    "tags": []
   },
   "outputs": [
    {
     "name": "stderr",
     "output_type": "stream",
     "text": [
      "                                                                                \r"
     ]
    },
    {
     "data": {
      "text/html": [
       "<div>\n",
       "<style scoped>\n",
       "    .dataframe tbody tr th:only-of-type {\n",
       "        vertical-align: middle;\n",
       "    }\n",
       "\n",
       "    .dataframe tbody tr th {\n",
       "        vertical-align: top;\n",
       "    }\n",
       "\n",
       "    .dataframe thead th {\n",
       "        text-align: right;\n",
       "    }\n",
       "</style>\n",
       "<table border=\"1\" class=\"dataframe\">\n",
       "  <thead>\n",
       "    <tr style=\"text-align: right;\">\n",
       "      <th></th>\n",
       "      <th>summary</th>\n",
       "      <th>LotFrontage</th>\n",
       "      <th>LotArea</th>\n",
       "      <th>OverallQuality</th>\n",
       "      <th>OverallConditions</th>\n",
       "      <th>YearBuilt</th>\n",
       "      <th>YearRemodel</th>\n",
       "      <th>MasonryVeneerArea</th>\n",
       "      <th>ExteriorQuality</th>\n",
       "      <th>ExteriorCondition</th>\n",
       "      <th>...</th>\n",
       "      <th>OpenPorchSF</th>\n",
       "      <th>EnclosedPorch</th>\n",
       "      <th>ThreeSeasonPorchArea</th>\n",
       "      <th>ScreenPorch</th>\n",
       "      <th>PoolArea</th>\n",
       "      <th>PoolQuality</th>\n",
       "      <th>MiscVal</th>\n",
       "      <th>MoSold</th>\n",
       "      <th>YrSold</th>\n",
       "      <th>SalePrice</th>\n",
       "    </tr>\n",
       "  </thead>\n",
       "  <tbody>\n",
       "    <tr>\n",
       "      <th>0</th>\n",
       "      <td>count</td>\n",
       "      <td>2433</td>\n",
       "      <td>2919</td>\n",
       "      <td>2919</td>\n",
       "      <td>2919</td>\n",
       "      <td>2919</td>\n",
       "      <td>2919</td>\n",
       "      <td>2896</td>\n",
       "      <td>2919</td>\n",
       "      <td>2919</td>\n",
       "      <td>...</td>\n",
       "      <td>2919</td>\n",
       "      <td>2919</td>\n",
       "      <td>2919</td>\n",
       "      <td>2919</td>\n",
       "      <td>2919</td>\n",
       "      <td>2919</td>\n",
       "      <td>2919</td>\n",
       "      <td>2919</td>\n",
       "      <td>2919</td>\n",
       "      <td>1460</td>\n",
       "    </tr>\n",
       "    <tr>\n",
       "      <th>1</th>\n",
       "      <td>mean</td>\n",
       "      <td>69.30579531442663</td>\n",
       "      <td>10168.11408016444</td>\n",
       "      <td>6.089071599862967</td>\n",
       "      <td>5.564576909900651</td>\n",
       "      <td>1971.3127783487496</td>\n",
       "      <td>1984.2644741349777</td>\n",
       "      <td>102.20131215469613</td>\n",
       "      <td>2.396711202466598</td>\n",
       "      <td>2.0856457690990067</td>\n",
       "      <td>...</td>\n",
       "      <td>47.486810551558754</td>\n",
       "      <td>23.098321342925658</td>\n",
       "      <td>2.602261048304214</td>\n",
       "      <td>16.062350119904078</td>\n",
       "      <td>2.2517985611510793</td>\n",
       "      <td>0.010277492291880781</td>\n",
       "      <td>50.82596779719082</td>\n",
       "      <td>6.213086673518328</td>\n",
       "      <td>2007.7927372387803</td>\n",
       "      <td>180921.19589041095</td>\n",
       "    </tr>\n",
       "    <tr>\n",
       "      <th>2</th>\n",
       "      <td>stddev</td>\n",
       "      <td>23.344904706927394</td>\n",
       "      <td>7886.996359105535</td>\n",
       "      <td>1.409947206614697</td>\n",
       "      <td>1.1131307466377236</td>\n",
       "      <td>30.291441534121137</td>\n",
       "      <td>20.89434423384076</td>\n",
       "      <td>179.33425303776386</td>\n",
       "      <td>0.5802933564635654</td>\n",
       "      <td>0.3723609711640206</td>\n",
       "      <td>...</td>\n",
       "      <td>67.57549339168973</td>\n",
       "      <td>64.24424559263244</td>\n",
       "      <td>25.188169331162975</td>\n",
       "      <td>56.18436511069397</td>\n",
       "      <td>35.66394596548709</td>\n",
       "      <td>0.18668097356572638</td>\n",
       "      <td>567.4022105501805</td>\n",
       "      <td>2.714761774157895</td>\n",
       "      <td>1.3149644889049965</td>\n",
       "      <td>79442.50288288663</td>\n",
       "    </tr>\n",
       "    <tr>\n",
       "      <th>3</th>\n",
       "      <td>min</td>\n",
       "      <td>21</td>\n",
       "      <td>1300</td>\n",
       "      <td>1</td>\n",
       "      <td>1</td>\n",
       "      <td>1872</td>\n",
       "      <td>1950</td>\n",
       "      <td>0</td>\n",
       "      <td>1</td>\n",
       "      <td>0</td>\n",
       "      <td>...</td>\n",
       "      <td>0</td>\n",
       "      <td>0</td>\n",
       "      <td>0</td>\n",
       "      <td>0</td>\n",
       "      <td>0</td>\n",
       "      <td>0</td>\n",
       "      <td>0</td>\n",
       "      <td>1</td>\n",
       "      <td>2006</td>\n",
       "      <td>34900</td>\n",
       "    </tr>\n",
       "    <tr>\n",
       "      <th>4</th>\n",
       "      <td>max</td>\n",
       "      <td>313</td>\n",
       "      <td>215245</td>\n",
       "      <td>10</td>\n",
       "      <td>9</td>\n",
       "      <td>2010</td>\n",
       "      <td>2010</td>\n",
       "      <td>1600</td>\n",
       "      <td>4</td>\n",
       "      <td>4</td>\n",
       "      <td>...</td>\n",
       "      <td>742</td>\n",
       "      <td>1012</td>\n",
       "      <td>508</td>\n",
       "      <td>576</td>\n",
       "      <td>800</td>\n",
       "      <td>4</td>\n",
       "      <td>17000</td>\n",
       "      <td>12</td>\n",
       "      <td>2010</td>\n",
       "      <td>755000</td>\n",
       "    </tr>\n",
       "  </tbody>\n",
       "</table>\n",
       "<p>5 rows × 51 columns</p>\n",
       "</div>"
      ],
      "text/plain": [
       "  summary         LotFrontage            LotArea     OverallQuality   \n",
       "0   count                2433               2919               2919  \\\n",
       "1    mean   69.30579531442663  10168.11408016444  6.089071599862967   \n",
       "2  stddev  23.344904706927394  7886.996359105535  1.409947206614697   \n",
       "3     min                  21               1300                  1   \n",
       "4     max                 313             215245                 10   \n",
       "\n",
       "    OverallConditions           YearBuilt         YearRemodel   \n",
       "0                2919                2919                2919  \\\n",
       "1   5.564576909900651  1971.3127783487496  1984.2644741349777   \n",
       "2  1.1131307466377236  30.291441534121137   20.89434423384076   \n",
       "3                   1                1872                1950   \n",
       "4                   9                2010                2010   \n",
       "\n",
       "    MasonryVeneerArea     ExteriorQuality   ExteriorCondition  ...   \n",
       "0                2896                2919                2919  ...  \\\n",
       "1  102.20131215469613   2.396711202466598  2.0856457690990067  ...   \n",
       "2  179.33425303776386  0.5802933564635654  0.3723609711640206  ...   \n",
       "3                   0                   1                   0  ...   \n",
       "4                1600                   4                   4  ...   \n",
       "\n",
       "          OpenPorchSF       EnclosedPorch ThreeSeasonPorchArea   \n",
       "0                2919                2919                 2919  \\\n",
       "1  47.486810551558754  23.098321342925658    2.602261048304214   \n",
       "2   67.57549339168973   64.24424559263244   25.188169331162975   \n",
       "3                   0                   0                    0   \n",
       "4                 742                1012                  508   \n",
       "\n",
       "          ScreenPorch            PoolArea           PoolQuality   \n",
       "0                2919                2919                  2919  \\\n",
       "1  16.062350119904078  2.2517985611510793  0.010277492291880781   \n",
       "2   56.18436511069397   35.66394596548709   0.18668097356572638   \n",
       "3                   0                   0                     0   \n",
       "4                 576                 800                     4   \n",
       "\n",
       "             MiscVal             MoSold              YrSold   \n",
       "0               2919               2919                2919  \\\n",
       "1  50.82596779719082  6.213086673518328  2007.7927372387803   \n",
       "2  567.4022105501805  2.714761774157895  1.3149644889049965   \n",
       "3                  0                  1                2006   \n",
       "4              17000                 12                2010   \n",
       "\n",
       "            SalePrice  \n",
       "0                1460  \n",
       "1  180921.19589041095  \n",
       "2   79442.50288288663  \n",
       "3               34900  \n",
       "4              755000  \n",
       "\n",
       "[5 rows x 51 columns]"
      ]
     },
     "execution_count": 58,
     "metadata": {},
     "output_type": "execute_result"
    }
   ],
   "source": [
    "df[numeric_cols].describe().toPandas()"
   ]
  },
  {
   "cell_type": "code",
   "execution_count": 59,
   "id": "8ac18e09-4379-4d82-947d-6c471283a889",
   "metadata": {
    "tags": []
   },
   "outputs": [
    {
     "name": "stdout",
     "output_type": "stream",
     "text": [
      "-RECORD 0-------------------------\n",
      " DwellingType              | 0    \n",
      " ZoneType                  | 0    \n",
      " LotFrontage               | 486  \n",
      " LotArea                   | 0    \n",
      " Street                    | 0    \n",
      " Alley                     | 0    \n",
      " LotShape                  | 0    \n",
      " Flatness                  | 0    \n",
      " Utilities                 | 0    \n",
      " LotConfig                 | 0    \n",
      " LandSlope                 | 0    \n",
      " Neighborhood              | 0    \n",
      " Condition1                | 0    \n",
      " Condition2                | 0    \n",
      " BuildingType              | 0    \n",
      " HouseStyle                | 0    \n",
      " OverallQuality            | 0    \n",
      " OverallConditions         | 0    \n",
      " YearBuilt                 | 0    \n",
      " YearRemodel               | 0    \n",
      " RoofStyle                 | 0    \n",
      " RoofMaterial              | 0    \n",
      " Exterior1st               | 0    \n",
      " Exterior2nd               | 0    \n",
      " MasonryVeneerType         | 0    \n",
      " MasonryVeneerArea         | 23   \n",
      " ExteriorQuality           | 0    \n",
      " ExteriorCondition         | 0    \n",
      " Foundation                | 0    \n",
      " BasementQuality           | 0    \n",
      " BasementCondition         | 0    \n",
      " BasementExposure          | 0    \n",
      " BasementFinishedType1     | 0    \n",
      " BasementFinishedType1Area | 1    \n",
      " BasementFinishedType2     | 0    \n",
      " BasementFinishedType2Area | 1    \n",
      " BsmtUnfSF                 | 1    \n",
      " TotalBsmtSF               | 1    \n",
      " Heating                   | 0    \n",
      " HeatingQC                 | 0    \n",
      " CentralAir                | 0    \n",
      " Electrical                | 0    \n",
      " 1stFlrSF                  | 0    \n",
      " 2ndFlrSF                  | 0    \n",
      " LowQualityFinishedArea    | 0    \n",
      " AboveGroundLivingArea     | 0    \n",
      " BasementFullBathrooms     | 2    \n",
      " BasementHalfBathrooms     | 2    \n",
      " FullBathrooms             | 0    \n",
      " HalfBathrooms             | 0    \n",
      " BedroomAbvGr              | 0    \n",
      " KitchenAbvGr              | 0    \n",
      " KitchenQuality            | 0    \n",
      " TotalRoomsAboveGround     | 0    \n",
      " Functional                | 0    \n",
      " Fireplaces                | 0    \n",
      " FireplaceQuality          | 0    \n",
      " GarageType                | 0    \n",
      " GarageYrBlt               | 159  \n",
      " GarageFinish              | 0    \n",
      " GarageCars                | 1    \n",
      " GarageArea                | 1    \n",
      " GarageQuality             | 0    \n",
      " GarageCondition           | 0    \n",
      " PavedDrive                | 0    \n",
      " WoodDeckSF                | 0    \n",
      " OpenPorchSF               | 0    \n",
      " EnclosedPorch             | 0    \n",
      " ThreeSeasonPorchArea      | 0    \n",
      " ScreenPorch               | 0    \n",
      " PoolArea                  | 0    \n",
      " PoolQuality               | 0    \n",
      " Fence                     | 0    \n",
      " MiscFeature               | 0    \n",
      " MiscVal                   | 0    \n",
      " MoSold                    | 0    \n",
      " YrSold                    | 0    \n",
      " SaleType                  | 0    \n",
      " SaleCondition             | 0    \n",
      " SalePrice                 | 1459 \n",
      "\n"
     ]
    }
   ],
   "source": [
    "df.select([func.count(func.when(df[c].isNull() | func.isnan(df[c]), c)).alias(c) for c in df.columns]).show(vertical=True)"
   ]
  },
  {
   "cell_type": "code",
   "execution_count": 60,
   "id": "3919529f-7e93-453c-94b5-ac8656703b51",
   "metadata": {
    "tags": []
   },
   "outputs": [
    {
     "name": "stdout",
     "output_type": "stream",
     "text": [
      "+-----------+---------+-----------+\n",
      "|GarageYrBlt|YearBuilt|YearRemodel|\n",
      "+-----------+---------+-----------+\n",
      "|       2003|     2003|       2003|\n",
      "|       1976|     1976|       1976|\n",
      "|       2001|     2001|       2002|\n",
      "|       1998|     1915|       1970|\n",
      "|       2000|     2000|       2000|\n",
      "|       1993|     1993|       1995|\n",
      "|       2004|     2004|       2005|\n",
      "|       1973|     1973|       1973|\n",
      "|       1931|     1931|       1950|\n",
      "|       1939|     1939|       1950|\n",
      "|       1965|     1965|       1965|\n",
      "|       2005|     2005|       2006|\n",
      "|       1962|     1962|       1962|\n",
      "|       2006|     2006|       2007|\n",
      "|       1960|     1960|       1960|\n",
      "|       1991|     1929|       2001|\n",
      "|       1970|     1970|       1970|\n",
      "|       1967|     1967|       1967|\n",
      "|       2004|     2004|       2004|\n",
      "|       1958|     1958|       1965|\n",
      "+-----------+---------+-----------+\n",
      "only showing top 20 rows\n",
      "\n"
     ]
    }
   ],
   "source": [
    "df[['GarageYrBlt', 'YearBuilt', 'YearRemodel']].show()"
   ]
  },
  {
   "cell_type": "code",
   "execution_count": 61,
   "id": "5400f3dc-04ff-4f6b-a1fd-b922a61c8b97",
   "metadata": {
    "tags": []
   },
   "outputs": [
    {
     "name": "stdout",
     "output_type": "stream",
     "text": [
      "+-----------+---------+-----------+\n",
      "|GarageYrBlt|YearBuilt|YearRemodel|\n",
      "+-----------+---------+-----------+\n",
      "|       2207|     2006|       2007|\n",
      "+-----------+---------+-----------+\n",
      "\n"
     ]
    }
   ],
   "source": [
    "df[df['GarageYrBlt'] > 2020][['GarageYrBlt', 'YearBuilt', 'YearRemodel']].show()"
   ]
  },
  {
   "cell_type": "code",
   "execution_count": 62,
   "id": "5f540228-4864-4358-89ef-ea15980806b0",
   "metadata": {
    "tags": []
   },
   "outputs": [],
   "source": [
    "df = df.withColumn('GarageYrBlt', func.when(df['GarageYrBlt'] == 2207, 2007).otherwise(df['GarageYrBlt']))"
   ]
  },
  {
   "cell_type": "code",
   "execution_count": 63,
   "id": "637496d9-57db-4389-9fef-9babc72baa39",
   "metadata": {
    "tags": []
   },
   "outputs": [
    {
     "name": "stdout",
     "output_type": "stream",
     "text": [
      "+-----------+------------+----------+----------+-------------+---------------+----------+\n",
      "|GarageYrBlt|GarageFinish|GarageCars|GarageArea|GarageQuality|GarageCondition|GarageType|\n",
      "+-----------+------------+----------+----------+-------------+---------------+----------+\n",
      "|       2003|           2|         2|       548|            3|              3|    Attchd|\n",
      "|       1976|           2|         2|       460|            3|              3|    Attchd|\n",
      "|       2001|           2|         2|       608|            3|              3|    Attchd|\n",
      "|       1998|           1|         3|       642|            3|              3|    Detchd|\n",
      "|       2000|           2|         3|       836|            3|              3|    Attchd|\n",
      "|       1993|           1|         2|       480|            3|              3|    Attchd|\n",
      "|       2004|           2|         2|       636|            3|              3|    Attchd|\n",
      "|       1973|           2|         2|       484|            3|              3|    Attchd|\n",
      "|       1931|           1|         2|       468|            2|              3|    Detchd|\n",
      "|       1939|           2|         1|       205|            4|              3|    Attchd|\n",
      "|       1965|           1|         1|       384|            3|              3|    Detchd|\n",
      "|       2005|           3|         3|       736|            3|              3|   BuiltIn|\n",
      "|       1962|           1|         1|       352|            3|              3|    Detchd|\n",
      "|       2006|           2|         3|       840|            3|              3|    Attchd|\n",
      "|       1960|           2|         1|       352|            3|              3|    Attchd|\n",
      "|       1991|           1|         2|       576|            3|              3|    Detchd|\n",
      "|       1970|           3|         2|       480|            3|              3|    Attchd|\n",
      "|       1967|           1|         2|       516|            3|              3|   CarPort|\n",
      "|       2004|           1|         2|       576|            3|              3|    Detchd|\n",
      "|       1958|           1|         1|       294|            3|              3|    Attchd|\n",
      "+-----------+------------+----------+----------+-------------+---------------+----------+\n",
      "only showing top 20 rows\n",
      "\n"
     ]
    }
   ],
   "source": [
    "df_garage = df[['GarageYrBlt', 'GarageFinish', 'GarageCars', 'GarageArea', 'GarageQuality', 'GarageCondition', 'GarageType']] #ver nulls\n",
    "df_garage.show()"
   ]
  },
  {
   "cell_type": "code",
   "execution_count": 64,
   "id": "7d425f32-1265-4343-8c75-e9c1664f5fc2",
   "metadata": {
    "tags": []
   },
   "outputs": [
    {
     "name": "stdout",
     "output_type": "stream",
     "text": [
      "GarageYrBlt\n",
      "+-----------+------------+----------+----------+-------------+---------------+----------+\n",
      "|GarageYrBlt|GarageFinish|GarageCars|GarageArea|GarageQuality|GarageCondition|GarageType|\n",
      "+-----------+------------+----------+----------+-------------+---------------+----------+\n",
      "|       null|           0|         0|         0|            0|              0|        NA|\n",
      "|       null|           0|         0|         0|            0|              0|        NA|\n",
      "|       null|           0|         0|         0|            0|              0|        NA|\n",
      "|       null|           0|         0|         0|            0|              0|        NA|\n",
      "|       null|           0|         0|         0|            0|              0|        NA|\n",
      "|       null|           0|         0|         0|            0|              0|        NA|\n",
      "|       null|           0|         0|         0|            0|              0|        NA|\n",
      "|       null|           0|         0|         0|            0|              0|        NA|\n",
      "|       null|           0|         0|         0|            0|              0|        NA|\n",
      "|       null|           0|         0|         0|            0|              0|        NA|\n",
      "|       null|           0|         0|         0|            0|              0|        NA|\n",
      "|       null|           0|         0|         0|            0|              0|        NA|\n",
      "|       null|           0|         0|         0|            0|              0|        NA|\n",
      "|       null|           0|         0|         0|            0|              0|        NA|\n",
      "|       null|           0|         0|         0|            0|              0|        NA|\n",
      "|       null|           0|         0|         0|            0|              0|        NA|\n",
      "|       null|           0|         0|         0|            0|              0|        NA|\n",
      "|       null|           0|         0|         0|            0|              0|        NA|\n",
      "|       null|           0|         0|         0|            0|              0|        NA|\n",
      "|       null|           0|         0|         0|            0|              0|        NA|\n",
      "+-----------+------------+----------+----------+-------------+---------------+----------+\n",
      "only showing top 20 rows\n",
      "\n",
      "GarageFinish\n",
      "+-----------+------------+----------+----------+-------------+---------------+----------+\n",
      "|GarageYrBlt|GarageFinish|GarageCars|GarageArea|GarageQuality|GarageCondition|GarageType|\n",
      "+-----------+------------+----------+----------+-------------+---------------+----------+\n",
      "+-----------+------------+----------+----------+-------------+---------------+----------+\n",
      "\n",
      "GarageCars\n",
      "+-----------+------------+----------+----------+-------------+---------------+----------+\n",
      "|GarageYrBlt|GarageFinish|GarageCars|GarageArea|GarageQuality|GarageCondition|GarageType|\n",
      "+-----------+------------+----------+----------+-------------+---------------+----------+\n",
      "|       null|           0|      null|      null|            0|              0|    Detchd|\n",
      "+-----------+------------+----------+----------+-------------+---------------+----------+\n",
      "\n",
      "GarageArea\n",
      "+-----------+------------+----------+----------+-------------+---------------+----------+\n",
      "|GarageYrBlt|GarageFinish|GarageCars|GarageArea|GarageQuality|GarageCondition|GarageType|\n",
      "+-----------+------------+----------+----------+-------------+---------------+----------+\n",
      "|       null|           0|      null|      null|            0|              0|    Detchd|\n",
      "+-----------+------------+----------+----------+-------------+---------------+----------+\n",
      "\n",
      "GarageQuality\n",
      "+-----------+------------+----------+----------+-------------+---------------+----------+\n",
      "|GarageYrBlt|GarageFinish|GarageCars|GarageArea|GarageQuality|GarageCondition|GarageType|\n",
      "+-----------+------------+----------+----------+-------------+---------------+----------+\n",
      "+-----------+------------+----------+----------+-------------+---------------+----------+\n",
      "\n",
      "GarageCondition\n",
      "+-----------+------------+----------+----------+-------------+---------------+----------+\n",
      "|GarageYrBlt|GarageFinish|GarageCars|GarageArea|GarageQuality|GarageCondition|GarageType|\n",
      "+-----------+------------+----------+----------+-------------+---------------+----------+\n",
      "+-----------+------------+----------+----------+-------------+---------------+----------+\n",
      "\n",
      "GarageType\n",
      "+-----------+------------+----------+----------+-------------+---------------+----------+\n",
      "|GarageYrBlt|GarageFinish|GarageCars|GarageArea|GarageQuality|GarageCondition|GarageType|\n",
      "+-----------+------------+----------+----------+-------------+---------------+----------+\n",
      "+-----------+------------+----------+----------+-------------+---------------+----------+\n",
      "\n"
     ]
    }
   ],
   "source": [
    "for col in df_garage.columns:\n",
    "    print(col)\n",
    "    df_garage[df_garage[col].isNull()].show()"
   ]
  },
  {
   "cell_type": "code",
   "execution_count": 65,
   "id": "d04dd7eb-dfbc-472c-9af8-7494a1493f91",
   "metadata": {
    "tags": []
   },
   "outputs": [],
   "source": [
    "df = df.fillna(subset=['GarageYrBlt', 'GarageCars', 'GarageArea'], value=0)"
   ]
  },
  {
   "cell_type": "code",
   "execution_count": 66,
   "id": "9b36f69b-bbdc-4ef9-b0dc-4a65b59df6f8",
   "metadata": {
    "tags": []
   },
   "outputs": [
    {
     "name": "stdout",
     "output_type": "stream",
     "text": [
      "+-----------------+-----------------+\n",
      "|MasonryVeneerType|MasonryVeneerArea|\n",
      "+-----------------+-----------------+\n",
      "|       Brick Face|              196|\n",
      "|             None|                0|\n",
      "|       Brick Face|              162|\n",
      "|             None|                0|\n",
      "|       Brick Face|              350|\n",
      "|             None|                0|\n",
      "|            Stone|              186|\n",
      "|            Stone|              240|\n",
      "|             None|                0|\n",
      "|             None|                0|\n",
      "|             None|                0|\n",
      "|            Stone|              286|\n",
      "|             None|                0|\n",
      "|            Stone|              306|\n",
      "|       Brick Face|              212|\n",
      "|             None|                0|\n",
      "|       Brick Face|              180|\n",
      "|             None|                0|\n",
      "|             None|                0|\n",
      "|             None|                0|\n",
      "+-----------------+-----------------+\n",
      "only showing top 20 rows\n",
      "\n"
     ]
    }
   ],
   "source": [
    "df_mansonry = df[['MasonryVeneerType', 'MasonryVeneerArea']]\n",
    "df_mansonry.show()"
   ]
  },
  {
   "cell_type": "code",
   "execution_count": 67,
   "id": "3e3a4671-ff8b-425b-8ceb-848b68efc409",
   "metadata": {
    "tags": []
   },
   "outputs": [
    {
     "name": "stdout",
     "output_type": "stream",
     "text": [
      "+-----------------+-----------------+\n",
      "|MasonryVeneerType|MasonryVeneerArea|\n",
      "+-----------------+-----------------+\n",
      "|               NA|             null|\n",
      "|               NA|             null|\n",
      "|               NA|             null|\n",
      "|               NA|             null|\n",
      "|               NA|             null|\n",
      "|               NA|             null|\n",
      "|               NA|             null|\n",
      "|               NA|             null|\n",
      "|               NA|             null|\n",
      "|               NA|             null|\n",
      "|               NA|             null|\n",
      "|               NA|             null|\n",
      "|               NA|             null|\n",
      "|               NA|             null|\n",
      "|               NA|             null|\n",
      "|               NA|             null|\n",
      "|               NA|             null|\n",
      "|               NA|             null|\n",
      "|               NA|             null|\n",
      "|               NA|             null|\n",
      "+-----------------+-----------------+\n",
      "only showing top 20 rows\n",
      "\n"
     ]
    }
   ],
   "source": [
    "df_mansonry[df_mansonry['MasonryVeneerArea'].isNull()].show()"
   ]
  },
  {
   "cell_type": "code",
   "execution_count": 68,
   "id": "a32deec5-0878-4d45-92e5-c56c48497369",
   "metadata": {
    "tags": []
   },
   "outputs": [
    {
     "name": "stdout",
     "output_type": "stream",
     "text": [
      "+-----------------+-----------------+\n",
      "|MasonryVeneerType|MasonryVeneerArea|\n",
      "+-----------------+-----------------+\n",
      "|             None|                0|\n",
      "|             None|                0|\n",
      "|             None|                0|\n",
      "|             None|                0|\n",
      "|             None|                0|\n",
      "|             None|                0|\n",
      "|             None|                0|\n",
      "|             None|                0|\n",
      "|             None|                0|\n",
      "|             None|                0|\n",
      "|             None|                0|\n",
      "|             None|                0|\n",
      "|             None|                0|\n",
      "|             None|                0|\n",
      "|             None|                0|\n",
      "|             None|                0|\n",
      "|             None|                0|\n",
      "|             None|                0|\n",
      "|             None|                0|\n",
      "|             None|                0|\n",
      "+-----------------+-----------------+\n",
      "only showing top 20 rows\n",
      "\n"
     ]
    }
   ],
   "source": [
    "#df_mansonry[df_mansonry['MasonryVeneerArea'] == 0].show()\n",
    "df_mansonry[df_mansonry['MasonryVeneerType'] == 'None'].show()#NA"
   ]
  },
  {
   "cell_type": "code",
   "execution_count": 69,
   "id": "95202b66-3601-4752-bebe-0aee0e4b2196",
   "metadata": {
    "tags": []
   },
   "outputs": [],
   "source": [
    "df = df.withColumn('MasonryVeneerType', func.when(df_mansonry['MasonryVeneerType'] == 'None', 'NA').otherwise(df_mansonry['MasonryVeneerType']))\n",
    "df = df.fillna(subset='MasonryVeneerArea', value=0)"
   ]
  },
  {
   "cell_type": "code",
   "execution_count": 70,
   "id": "d875d475-baf0-4ad9-ae7e-21bff7c3e023",
   "metadata": {
    "tags": []
   },
   "outputs": [
    {
     "name": "stdout",
     "output_type": "stream",
     "text": [
      "+---------------------+---------------------+---------------+---------------------+---------------------+-------------------------+-------------------------+---------+-----------+\n",
      "|BasementFullBathrooms|BasementHalfBathrooms|BasementQuality|BasementFinishedType1|BasementFinishedType2|BasementFinishedType1Area|BasementFinishedType2Area|BsmtUnfSF|TotalBsmtSF|\n",
      "+---------------------+---------------------+---------------+---------------------+---------------------+-------------------------+-------------------------+---------+-----------+\n",
      "|                    1|                    0|              4| Good Living Quarters|            Unfinshed|                      706|                        0|      150|        856|\n",
      "|                    0|                    1|              4| Average Living Qu...|            Unfinshed|                      978|                        0|      284|       1262|\n",
      "|                    1|                    0|              4| Good Living Quarters|            Unfinshed|                      486|                        0|      434|        920|\n",
      "|                    1|                    0|              3| Average Living Qu...|            Unfinshed|                      216|                        0|      540|        756|\n",
      "|                    1|                    0|              4| Good Living Quarters|            Unfinshed|                      655|                        0|      490|       1145|\n",
      "|                    1|                    0|              4| Good Living Quarters|            Unfinshed|                      732|                        0|       64|        796|\n",
      "|                    1|                    0|              5| Good Living Quarters|            Unfinshed|                     1369|                        0|      317|       1686|\n",
      "|                    1|                    0|              4| Average Living Qu...| Below Average Liv...|                      859|                       32|      216|       1107|\n",
      "|                    0|                    0|              3|            Unfinshed|            Unfinshed|                        0|                        0|      952|        952|\n",
      "|                    1|                    0|              3| Good Living Quarters|            Unfinshed|                      851|                        0|      140|        991|\n",
      "|                    1|                    0|              3|     Average Rec Room|            Unfinshed|                      906|                        0|      134|       1040|\n",
      "|                    1|                    0|              5| Good Living Quarters|            Unfinshed|                      998|                        0|      177|       1175|\n",
      "|                    1|                    0|              3| Average Living Qu...|            Unfinshed|                      737|                        0|      175|        912|\n",
      "|                    0|                    0|              4|            Unfinshed|            Unfinshed|                        0|                        0|     1494|       1494|\n",
      "|                    1|                    0|              3| Below Average Liv...|            Unfinshed|                      733|                        0|      520|       1253|\n",
      "|                    0|                    0|              3|            Unfinshed|            Unfinshed|                        0|                        0|      832|        832|\n",
      "|                    1|                    0|              3| Average Living Qu...|            Unfinshed|                      578|                        0|      426|       1004|\n",
      "|                    0|                    0|              0|          No Basement|          No Basement|                        0|                        0|        0|          0|\n",
      "|                    1|                    0|              3| Good Living Quarters|            Unfinshed|                      646|                        0|      468|       1114|\n",
      "|                    0|                    0|              3|          Low Quality|            Unfinshed|                      504|                        0|      525|       1029|\n",
      "+---------------------+---------------------+---------------+---------------------+---------------------+-------------------------+-------------------------+---------+-----------+\n",
      "only showing top 20 rows\n",
      "\n"
     ]
    }
   ],
   "source": [
    "df_bathrooms = df[['BasementFullBathrooms', 'BasementHalfBathrooms', 'BasementQuality', 'BasementFinishedType1', 'BasementFinishedType2', 'BasementFinishedType1Area', 'BasementFinishedType2Area', 'BsmtUnfSF', 'TotalBsmtSF']]\n",
    "df_bathrooms.show()"
   ]
  },
  {
   "cell_type": "code",
   "execution_count": 71,
   "id": "6e200767-27cf-4e71-ae9e-8f42d9db0b20",
   "metadata": {
    "tags": []
   },
   "outputs": [
    {
     "name": "stdout",
     "output_type": "stream",
     "text": [
      "BasementFullBathrooms\n",
      "+---------------------+---------------------+---------------+---------------------+---------------------+-------------------------+-------------------------+---------+-----------+\n",
      "|BasementFullBathrooms|BasementHalfBathrooms|BasementQuality|BasementFinishedType1|BasementFinishedType2|BasementFinishedType1Area|BasementFinishedType2Area|BsmtUnfSF|TotalBsmtSF|\n",
      "+---------------------+---------------------+---------------+---------------------+---------------------+-------------------------+-------------------------+---------+-----------+\n",
      "|                 null|                 null|              0|          No Basement|          No Basement|                     null|                     null|     null|       null|\n",
      "|                 null|                 null|              0|          No Basement|          No Basement|                        0|                        0|        0|          0|\n",
      "+---------------------+---------------------+---------------+---------------------+---------------------+-------------------------+-------------------------+---------+-----------+\n",
      "\n",
      "BasementHalfBathrooms\n",
      "+---------------------+---------------------+---------------+---------------------+---------------------+-------------------------+-------------------------+---------+-----------+\n",
      "|BasementFullBathrooms|BasementHalfBathrooms|BasementQuality|BasementFinishedType1|BasementFinishedType2|BasementFinishedType1Area|BasementFinishedType2Area|BsmtUnfSF|TotalBsmtSF|\n",
      "+---------------------+---------------------+---------------+---------------------+---------------------+-------------------------+-------------------------+---------+-----------+\n",
      "|                 null|                 null|              0|          No Basement|          No Basement|                     null|                     null|     null|       null|\n",
      "|                 null|                 null|              0|          No Basement|          No Basement|                        0|                        0|        0|          0|\n",
      "+---------------------+---------------------+---------------+---------------------+---------------------+-------------------------+-------------------------+---------+-----------+\n",
      "\n",
      "BasementQuality\n",
      "+---------------------+---------------------+---------------+---------------------+---------------------+-------------------------+-------------------------+---------+-----------+\n",
      "|BasementFullBathrooms|BasementHalfBathrooms|BasementQuality|BasementFinishedType1|BasementFinishedType2|BasementFinishedType1Area|BasementFinishedType2Area|BsmtUnfSF|TotalBsmtSF|\n",
      "+---------------------+---------------------+---------------+---------------------+---------------------+-------------------------+-------------------------+---------+-----------+\n",
      "+---------------------+---------------------+---------------+---------------------+---------------------+-------------------------+-------------------------+---------+-----------+\n",
      "\n",
      "BasementFinishedType1\n",
      "+---------------------+---------------------+---------------+---------------------+---------------------+-------------------------+-------------------------+---------+-----------+\n",
      "|BasementFullBathrooms|BasementHalfBathrooms|BasementQuality|BasementFinishedType1|BasementFinishedType2|BasementFinishedType1Area|BasementFinishedType2Area|BsmtUnfSF|TotalBsmtSF|\n",
      "+---------------------+---------------------+---------------+---------------------+---------------------+-------------------------+-------------------------+---------+-----------+\n",
      "+---------------------+---------------------+---------------+---------------------+---------------------+-------------------------+-------------------------+---------+-----------+\n",
      "\n",
      "BasementFinishedType2\n",
      "+---------------------+---------------------+---------------+---------------------+---------------------+-------------------------+-------------------------+---------+-----------+\n",
      "|BasementFullBathrooms|BasementHalfBathrooms|BasementQuality|BasementFinishedType1|BasementFinishedType2|BasementFinishedType1Area|BasementFinishedType2Area|BsmtUnfSF|TotalBsmtSF|\n",
      "+---------------------+---------------------+---------------+---------------------+---------------------+-------------------------+-------------------------+---------+-----------+\n",
      "+---------------------+---------------------+---------------+---------------------+---------------------+-------------------------+-------------------------+---------+-----------+\n",
      "\n",
      "BasementFinishedType1Area\n",
      "+---------------------+---------------------+---------------+---------------------+---------------------+-------------------------+-------------------------+---------+-----------+\n",
      "|BasementFullBathrooms|BasementHalfBathrooms|BasementQuality|BasementFinishedType1|BasementFinishedType2|BasementFinishedType1Area|BasementFinishedType2Area|BsmtUnfSF|TotalBsmtSF|\n",
      "+---------------------+---------------------+---------------+---------------------+---------------------+-------------------------+-------------------------+---------+-----------+\n",
      "|                 null|                 null|              0|          No Basement|          No Basement|                     null|                     null|     null|       null|\n",
      "+---------------------+---------------------+---------------+---------------------+---------------------+-------------------------+-------------------------+---------+-----------+\n",
      "\n",
      "BasementFinishedType2Area\n",
      "+---------------------+---------------------+---------------+---------------------+---------------------+-------------------------+-------------------------+---------+-----------+\n",
      "|BasementFullBathrooms|BasementHalfBathrooms|BasementQuality|BasementFinishedType1|BasementFinishedType2|BasementFinishedType1Area|BasementFinishedType2Area|BsmtUnfSF|TotalBsmtSF|\n",
      "+---------------------+---------------------+---------------+---------------------+---------------------+-------------------------+-------------------------+---------+-----------+\n",
      "|                 null|                 null|              0|          No Basement|          No Basement|                     null|                     null|     null|       null|\n",
      "+---------------------+---------------------+---------------+---------------------+---------------------+-------------------------+-------------------------+---------+-----------+\n",
      "\n",
      "BsmtUnfSF\n",
      "+---------------------+---------------------+---------------+---------------------+---------------------+-------------------------+-------------------------+---------+-----------+\n",
      "|BasementFullBathrooms|BasementHalfBathrooms|BasementQuality|BasementFinishedType1|BasementFinishedType2|BasementFinishedType1Area|BasementFinishedType2Area|BsmtUnfSF|TotalBsmtSF|\n",
      "+---------------------+---------------------+---------------+---------------------+---------------------+-------------------------+-------------------------+---------+-----------+\n",
      "|                 null|                 null|              0|          No Basement|          No Basement|                     null|                     null|     null|       null|\n",
      "+---------------------+---------------------+---------------+---------------------+---------------------+-------------------------+-------------------------+---------+-----------+\n",
      "\n",
      "TotalBsmtSF\n",
      "+---------------------+---------------------+---------------+---------------------+---------------------+-------------------------+-------------------------+---------+-----------+\n",
      "|BasementFullBathrooms|BasementHalfBathrooms|BasementQuality|BasementFinishedType1|BasementFinishedType2|BasementFinishedType1Area|BasementFinishedType2Area|BsmtUnfSF|TotalBsmtSF|\n",
      "+---------------------+---------------------+---------------+---------------------+---------------------+-------------------------+-------------------------+---------+-----------+\n",
      "|                 null|                 null|              0|          No Basement|          No Basement|                     null|                     null|     null|       null|\n",
      "+---------------------+---------------------+---------------+---------------------+---------------------+-------------------------+-------------------------+---------+-----------+\n",
      "\n"
     ]
    }
   ],
   "source": [
    "for col in df_bathrooms.columns:\n",
    "    print(col)\n",
    "    df_bathrooms[df_bathrooms[col].isNull()].show()"
   ]
  },
  {
   "cell_type": "code",
   "execution_count": 72,
   "id": "10f3334a-9220-4efe-9896-a98f1ec4c860",
   "metadata": {
    "tags": []
   },
   "outputs": [],
   "source": [
    "df = df.fillna(subset=['BasementFullBathrooms', 'BasementHalfBathrooms', 'BsmtUnfSF', 'TotalBsmtSF', 'BasementFinishedType1Area', 'BasementFinishedType2Area'], value=0)"
   ]
  },
  {
   "cell_type": "code",
   "execution_count": 73,
   "id": "a8849bfe-4855-42de-8903-2b4b076facba",
   "metadata": {
    "tags": []
   },
   "outputs": [
    {
     "name": "stdout",
     "output_type": "stream",
     "text": [
      "+-----------+-------+------+----------------+--------------------+\n",
      "|LotFrontage|LotArea|Street|           Alley|            LotShape|\n",
      "+-----------+-------+------+----------------+--------------------+\n",
      "|         65|   8450| Paved|Not Alley Access|             Regular|\n",
      "|         80|   9600| Paved|Not Alley Access|             Regular|\n",
      "|         68|  11250| Paved|Not Alley Access|  Slightly irregular|\n",
      "|         60|   9550| Paved|Not Alley Access|  Slightly irregular|\n",
      "|         84|  14260| Paved|Not Alley Access|  Slightly irregular|\n",
      "|         85|  14115| Paved|Not Alley Access|  Slightly irregular|\n",
      "|         75|  10084| Paved|Not Alley Access|             Regular|\n",
      "|       null|  10382| Paved|Not Alley Access|  Slightly irregular|\n",
      "|         51|   6120| Paved|Not Alley Access|             Regular|\n",
      "|         50|   7420| Paved|Not Alley Access|             Regular|\n",
      "|         70|  11200| Paved|Not Alley Access|             Regular|\n",
      "|         85|  11924| Paved|Not Alley Access|  Slightly irregular|\n",
      "|       null|  12968| Paved|Not Alley Access|Moderately Irregular|\n",
      "|         91|  10652| Paved|Not Alley Access|  Slightly irregular|\n",
      "|       null|  10920| Paved|Not Alley Access|  Slightly irregular|\n",
      "|         51|   6120| Paved|Not Alley Access|             Regular|\n",
      "|       null|  11241| Paved|Not Alley Access|  Slightly irregular|\n",
      "|         72|  10791| Paved|Not Alley Access|             Regular|\n",
      "|         66|  13695| Paved|Not Alley Access|             Regular|\n",
      "|         70|   7560| Paved|Not Alley Access|             Regular|\n",
      "+-----------+-------+------+----------------+--------------------+\n",
      "only showing top 20 rows\n",
      "\n"
     ]
    }
   ],
   "source": [
    "df_lot = df[['LotFrontage', 'LotArea', 'Street', 'Alley', 'LotShape']]\n",
    "df_lot.show()"
   ]
  },
  {
   "cell_type": "code",
   "execution_count": 74,
   "id": "9aceb759-f943-46fd-92e2-378697b07807",
   "metadata": {
    "tags": []
   },
   "outputs": [
    {
     "name": "stdout",
     "output_type": "stream",
     "text": [
      "+-----------+-------+------+----------------+--------------------+\n",
      "|LotFrontage|LotArea|Street|           Alley|            LotShape|\n",
      "+-----------+-------+------+----------------+--------------------+\n",
      "|       null|  10382| Paved|Not Alley Access|  Slightly irregular|\n",
      "|       null|  12968| Paved|Not Alley Access|Moderately Irregular|\n",
      "|       null|  10920| Paved|Not Alley Access|  Slightly irregular|\n",
      "|       null|  11241| Paved|Not Alley Access|  Slightly irregular|\n",
      "|       null|   8246| Paved|Not Alley Access|  Slightly irregular|\n",
      "|       null|   8544| Paved|Not Alley Access|  Slightly irregular|\n",
      "|       null|   9180| Paved|Not Alley Access|  Slightly irregular|\n",
      "|       null|   9200| Paved|Not Alley Access|  Slightly irregular|\n",
      "|       null|  13869| Paved|Not Alley Access|Moderately Irregular|\n",
      "|       null|   9375| Paved|Not Alley Access|             Regular|\n",
      "|       null|  19900| Paved|Not Alley Access|             Regular|\n",
      "|       null|   8475| Paved|Not Alley Access|  Slightly irregular|\n",
      "|       null|   8530| Paved|Not Alley Access|  Slightly irregular|\n",
      "|       null|   9765| Paved|Not Alley Access|Moderately Irregular|\n",
      "|       null|  10603| Paved|Not Alley Access|  Slightly irregular|\n",
      "|       null|   7758| Paved|Not Alley Access|             Regular|\n",
      "|       null|   7750| Paved|Not Alley Access|  Slightly irregular|\n",
      "|       null|  21000| Paved|Not Alley Access|             Regular|\n",
      "|       null|  11616| Paved|Not Alley Access|             Regular|\n",
      "|       null|  21453| Paved|Not Alley Access|  Slightly irregular|\n",
      "+-----------+-------+------+----------------+--------------------+\n",
      "only showing top 20 rows\n",
      "\n"
     ]
    }
   ],
   "source": [
    "df_lot[df_lot['LotFrontage'].isNull()].show()"
   ]
  },
  {
   "cell_type": "code",
   "execution_count": 75,
   "id": "f10073be-08f6-4881-b97d-cf398daae28d",
   "metadata": {
    "tags": []
   },
   "outputs": [],
   "source": [
    "df = df.fillna(subset=['LotFrontage'], value=0)"
   ]
  },
  {
   "cell_type": "markdown",
   "id": "a244ce54-55e1-4f59-a60d-9990dd4579b9",
   "metadata": {},
   "source": [
    "### Feature engineering"
   ]
  },
  {
   "cell_type": "code",
   "execution_count": 76,
   "id": "30c830e6-79e1-446d-8854-7f80dd15d0df",
   "metadata": {
    "tags": []
   },
   "outputs": [
    {
     "name": "stdout",
     "output_type": "stream",
     "text": [
      "+-------------+---------------------+----------+-----------+\n",
      "|TotalUsedArea|AboveGroundLivingArea|GarageArea|TotalBsmtSF|\n",
      "+-------------+---------------------+----------+-----------+\n",
      "|         3114|                 1710|       548|        856|\n",
      "|         2984|                 1262|       460|       1262|\n",
      "|         3314|                 1786|       608|        920|\n",
      "|         3115|                 1717|       642|        756|\n",
      "|         4179|                 2198|       836|       1145|\n",
      "|         2638|                 1362|       480|        796|\n",
      "|         4016|                 1694|       636|       1686|\n",
      "|         3681|                 2090|       484|       1107|\n",
      "|         3194|                 1774|       468|        952|\n",
      "|         2273|                 1077|       205|        991|\n",
      "|         2464|                 1040|       384|       1040|\n",
      "|         4235|                 2324|       736|       1175|\n",
      "|         2176|                  912|       352|        912|\n",
      "|         3828|                 1494|       840|       1494|\n",
      "|         2858|                 1253|       352|       1253|\n",
      "|         2262|                  854|       576|        832|\n",
      "|         2488|                 1004|       480|       1004|\n",
      "|         1812|                 1296|       516|          0|\n",
      "|         2804|                 1114|       576|       1114|\n",
      "|         2662|                 1339|       294|       1029|\n",
      "+-------------+---------------------+----------+-----------+\n",
      "only showing top 20 rows\n",
      "\n"
     ]
    }
   ],
   "source": [
    "df = df.withColumn('TotalUsedArea', df['AboveGroundLivingArea'] + df['GarageArea'] + df['TotalBsmtSF'])\n",
    "df[['TotalUsedArea', 'AboveGroundLivingArea', 'GarageArea', 'TotalBsmtSF']].show()"
   ]
  },
  {
   "cell_type": "code",
   "execution_count": 77,
   "id": "619ca7fc-b1a8-42c2-b79c-ca4e99824c9d",
   "metadata": {
    "tags": []
   },
   "outputs": [
    {
     "name": "stdout",
     "output_type": "stream",
     "text": [
      "+------------+-------------------+\n",
      "|NonbuiltArea|     BuiltAreaRatio|\n",
      "+------------+-------------------+\n",
      "|        7046|0.20236686390532543|\n",
      "|        7878|0.13145833333333334|\n",
      "|        9722|0.15875555555555557|\n",
      "|        7947|0.17979057591623038|\n",
      "|       12279| 0.1541374474053296|\n",
      "|       12839|0.09649309245483528|\n",
      "|        7754|0.16798889329631098|\n",
      "|        8791|0.20130995954536698|\n",
      "|        4630|0.28986928104575166|\n",
      "|        6138|0.14514824797843665|\n",
      "|        9776|0.09285714285714286|\n",
      "|       10006| 0.1949010399194901|\n",
      "|       11704| 0.0703269586674892|\n",
      "|        8318|0.14025535110777318|\n",
      "|        9315|0.11474358974358974|\n",
      "|        4690|0.13954248366013072|\n",
      "|        9757|0.08931589716217418|\n",
      "|        8979|0.12010008340283569|\n",
      "|       12005|0.08134355604235122|\n",
      "|        5927|0.17711640211640212|\n",
      "+------------+-------------------+\n",
      "only showing top 20 rows\n",
      "\n"
     ]
    }
   ],
   "source": [
    "df = df.withColumn('NonbuiltArea', df['LotArea'] - (df['AboveGroundLivingArea'] + df['GarageArea'] - df['2ndFlrSF']))\n",
    "df = df.withColumn('BuiltAreaRatio', df['AboveGroundLivingArea'] / df['LotArea'])\n",
    "df[['NonbuiltArea', 'BuiltAreaRatio']].show()"
   ]
  },
  {
   "cell_type": "code",
   "execution_count": 78,
   "id": "4fd00e42-4d86-45e7-8ab3-07380bc1da9f",
   "metadata": {
    "tags": []
   },
   "outputs": [
    {
     "name": "stdout",
     "output_type": "stream",
     "text": [
      "+---------+-----------+-------------+--------------------+-----------+\n",
      "|PorchArea|OpenPorchSF|EnclosedPorch|ThreeSeasonPorchArea|ScreenPorch|\n",
      "+---------+-----------+-------------+--------------------+-----------+\n",
      "|       61|         61|            0|                   0|          0|\n",
      "|        0|          0|            0|                   0|          0|\n",
      "|       42|         42|            0|                   0|          0|\n",
      "|      307|         35|          272|                   0|          0|\n",
      "|       84|         84|            0|                   0|          0|\n",
      "|      350|         30|            0|                 320|          0|\n",
      "|       57|         57|            0|                   0|          0|\n",
      "|      432|        204|          228|                   0|          0|\n",
      "|      205|          0|          205|                   0|          0|\n",
      "|        4|          4|            0|                   0|          0|\n",
      "|        0|          0|            0|                   0|          0|\n",
      "|       21|         21|            0|                   0|          0|\n",
      "|      176|          0|            0|                   0|        176|\n",
      "|       33|         33|            0|                   0|          0|\n",
      "|      389|        213|          176|                   0|          0|\n",
      "|      112|        112|            0|                   0|          0|\n",
      "|        0|          0|            0|                   0|          0|\n",
      "|        0|          0|            0|                   0|          0|\n",
      "|      102|        102|            0|                   0|          0|\n",
      "|        0|          0|            0|                   0|          0|\n",
      "+---------+-----------+-------------+--------------------+-----------+\n",
      "only showing top 20 rows\n",
      "\n"
     ]
    }
   ],
   "source": [
    "df = df.withColumn('PorchArea', df['OpenPorchSF'] + df['EnclosedPorch'] + df['ThreeSeasonPorchArea'] + df['ScreenPorch'])\n",
    "df[['PorchArea', 'OpenPorchSF', 'EnclosedPorch', 'ThreeSeasonPorchArea', 'ScreenPorch']].show()"
   ]
  },
  {
   "cell_type": "code",
   "execution_count": 79,
   "id": "3c9bd287-7050-425b-b266-672cc4f38487",
   "metadata": {
    "tags": []
   },
   "outputs": [
    {
     "name": "stdout",
     "output_type": "stream",
     "text": [
      "+--------+--------+--------+\n",
      "|IsDuplex|1stFlrSF|2ndFlrSF|\n",
      "+--------+--------+--------+\n",
      "|       1|     856|     854|\n",
      "|       0|    1262|       0|\n",
      "|       1|     920|     866|\n",
      "|       1|     961|     756|\n",
      "|       1|    1145|    1053|\n",
      "|       1|     796|     566|\n",
      "|       0|    1694|       0|\n",
      "|       1|    1107|     983|\n",
      "|       1|    1022|     752|\n",
      "|       0|    1077|       0|\n",
      "|       0|    1040|       0|\n",
      "|       1|    1182|    1142|\n",
      "|       0|     912|       0|\n",
      "|       0|    1494|       0|\n",
      "|       0|    1253|       0|\n",
      "|       0|     854|       0|\n",
      "|       0|    1004|       0|\n",
      "|       0|    1296|       0|\n",
      "|       0|    1114|       0|\n",
      "|       0|    1339|       0|\n",
      "+--------+--------+--------+\n",
      "only showing top 20 rows\n",
      "\n"
     ]
    }
   ],
   "source": [
    "user_func =  func.udf(lambda x: 1 if x > 0 else 0, IntegerType())\n",
    "df = df.withColumn('IsDuplex', user_func(df['2ndFlrSF']))\n",
    "df[['IsDuplex', '1stFlrSF', '2ndFlrSF']].show()"
   ]
  },
  {
   "cell_type": "code",
   "execution_count": 80,
   "id": "e8e30405-7a32-40f0-a4fa-092d6080cb27",
   "metadata": {
    "tags": []
   },
   "outputs": [
    {
     "name": "stdout",
     "output_type": "stream",
     "text": [
      "+----------------+---------+-----------+\n",
      "|SoldAfterRemodel|YearBuilt|YearRemodel|\n",
      "+----------------+---------+-----------+\n",
      "|               0|     2003|       2003|\n",
      "|               0|     1976|       1976|\n",
      "|               1|     2001|       2002|\n",
      "|               1|     1915|       1970|\n",
      "|               0|     2000|       2000|\n",
      "|               1|     1993|       1995|\n",
      "|               1|     2004|       2005|\n",
      "|               0|     1973|       1973|\n",
      "|               1|     1931|       1950|\n",
      "|               1|     1939|       1950|\n",
      "|               0|     1965|       1965|\n",
      "|               1|     2005|       2006|\n",
      "|               0|     1962|       1962|\n",
      "|               1|     2006|       2007|\n",
      "|               0|     1960|       1960|\n",
      "|               1|     1929|       2001|\n",
      "|               0|     1970|       1970|\n",
      "|               0|     1967|       1967|\n",
      "|               0|     2004|       2004|\n",
      "|               1|     1958|       1965|\n",
      "+----------------+---------+-----------+\n",
      "only showing top 20 rows\n",
      "\n"
     ]
    }
   ],
   "source": [
    "user_func =  func.udf(lambda x, y: 1 if x < y else 0, IntegerType())\n",
    "df = df.withColumn('SoldAfterRemodel', user_func(df['YearBuilt'], df['YearRemodel']))\n",
    "df[['SoldAfterRemodel', 'YearBuilt', 'YearRemodel']].show()"
   ]
  },
  {
   "cell_type": "code",
   "execution_count": 81,
   "id": "ae4c5114-02f1-462d-b7cb-cb61a11a4032",
   "metadata": {
    "tags": []
   },
   "outputs": [
    {
     "name": "stdout",
     "output_type": "stream",
     "text": [
      "+----------+------+-----------+\n",
      "|RemodelAge|YrSold|YearRemodel|\n",
      "+----------+------+-----------+\n",
      "|         5|  2008|       2003|\n",
      "|        31|  2007|       1976|\n",
      "|         6|  2008|       2002|\n",
      "|        36|  2006|       1970|\n",
      "|         8|  2008|       2000|\n",
      "|        14|  2009|       1995|\n",
      "|         2|  2007|       2005|\n",
      "|        36|  2009|       1973|\n",
      "|        58|  2008|       1950|\n",
      "|        58|  2008|       1950|\n",
      "|        43|  2008|       1965|\n",
      "|         0|  2006|       2006|\n",
      "|        46|  2008|       1962|\n",
      "|         0|  2007|       2007|\n",
      "|        48|  2008|       1960|\n",
      "|         6|  2007|       2001|\n",
      "|        40|  2010|       1970|\n",
      "|        39|  2006|       1967|\n",
      "|         4|  2008|       2004|\n",
      "|        44|  2009|       1965|\n",
      "+----------+------+-----------+\n",
      "only showing top 20 rows\n",
      "\n"
     ]
    }
   ],
   "source": [
    "df = df.withColumn('RemodelAge', df['YrSold'] - df['YearRemodel'])\n",
    "df[['RemodelAge', 'YrSold', 'YearRemodel']].show()"
   ]
  },
  {
   "cell_type": "code",
   "execution_count": 82,
   "id": "a4616cbb-06d0-4722-b776-759af3d9f1ae",
   "metadata": {
    "tags": []
   },
   "outputs": [
    {
     "name": "stdout",
     "output_type": "stream",
     "text": [
      "+-------------------------+----------+---------------------+\n",
      "|FireplacesLivingAreaRatio|Fireplaces|AboveGroundLivingArea|\n",
      "+-------------------------+----------+---------------------+\n",
      "|                      0.0|         0|                 1710|\n",
      "|      7.92393026941363E-4|         1|                 1262|\n",
      "|     5.599104143337066E-4|         1|                 1786|\n",
      "|     5.824111822947001E-4|         1|                 1717|\n",
      "|     4.549590536851683...|         1|                 2198|\n",
      "|                      0.0|         0|                 1362|\n",
      "|     5.903187721369539E-4|         1|                 1694|\n",
      "|     9.569377990430622E-4|         2|                 2090|\n",
      "|     0.001127395715896...|         2|                 1774|\n",
      "|     0.001857010213556...|         2|                 1077|\n",
      "|                      0.0|         0|                 1040|\n",
      "|     8.605851979345956E-4|         2|                 2324|\n",
      "|                      0.0|         0|                  912|\n",
      "|     6.693440428380187E-4|         1|                 1494|\n",
      "|     7.980845969672786E-4|         1|                 1253|\n",
      "|                      0.0|         0|                  854|\n",
      "|       9.9601593625498E-4|         1|                 1004|\n",
      "|                      0.0|         0|                 1296|\n",
      "|                      0.0|         0|                 1114|\n",
      "|                      0.0|         0|                 1339|\n",
      "+-------------------------+----------+---------------------+\n",
      "only showing top 20 rows\n",
      "\n"
     ]
    }
   ],
   "source": [
    "df = df.withColumn('FireplacesLivingAreaRatio', df['Fireplaces'] / df['AboveGroundLivingArea'])\n",
    "df[['FireplacesLivingAreaRatio', 'Fireplaces', 'AboveGroundLivingArea']].show()"
   ]
  },
  {
   "cell_type": "code",
   "execution_count": 83,
   "id": "f005d680-59e6-4223-8fca-a64189077624",
   "metadata": {
    "tags": []
   },
   "outputs": [
    {
     "name": "stdout",
     "output_type": "stream",
     "text": [
      "+----------------------+------------+-------------+-------------+\n",
      "|BedroomsBathroomsRatio|BedroomAbvGr|FullBathrooms|HalfBathrooms|\n",
      "+----------------------+------------+-------------+-------------+\n",
      "|                   1.0|           3|            2|            1|\n",
      "|                   1.5|           3|            2|            0|\n",
      "|                   1.0|           3|            2|            1|\n",
      "|                   3.0|           3|            1|            0|\n",
      "|    1.3333333333333333|           4|            2|            1|\n",
      "|                   0.5|           1|            1|            1|\n",
      "|                   1.5|           3|            2|            0|\n",
      "|                   1.0|           3|            2|            1|\n",
      "|                   1.0|           2|            2|            0|\n",
      "|                   2.0|           2|            1|            0|\n",
      "|                   3.0|           3|            1|            0|\n",
      "|    1.3333333333333333|           4|            3|            0|\n",
      "|                   2.0|           2|            1|            0|\n",
      "|                   1.5|           3|            2|            0|\n",
      "|                   1.0|           2|            1|            1|\n",
      "|                   2.0|           2|            1|            0|\n",
      "|                   2.0|           2|            1|            0|\n",
      "|                   1.0|           2|            2|            0|\n",
      "|                   1.5|           3|            1|            1|\n",
      "|                   3.0|           3|            1|            0|\n",
      "+----------------------+------------+-------------+-------------+\n",
      "only showing top 20 rows\n",
      "\n"
     ]
    }
   ],
   "source": [
    "df = df.withColumn('BedroomsBathroomsRatio', df['BedroomAbvGr'] / (df['FullBathrooms'] + df['HalfBathrooms']))\n",
    "df = df.fillna(subset='BedroomsBathroomsRatio', value=0)\n",
    "df[['BedroomsBathroomsRatio', 'BedroomAbvGr', 'FullBathrooms', 'HalfBathrooms']].show()"
   ]
  },
  {
   "cell_type": "code",
   "execution_count": 84,
   "id": "dc8f124f-db07-4d01-a491-9e17e8ff790a",
   "metadata": {
    "tags": []
   },
   "outputs": [
    {
     "name": "stdout",
     "output_type": "stream",
     "text": [
      "+--------+------+---------+\n",
      "|HouseAge|YrSold|YearBuilt|\n",
      "+--------+------+---------+\n",
      "|       5|  2008|     2003|\n",
      "|      31|  2007|     1976|\n",
      "|       7|  2008|     2001|\n",
      "|      91|  2006|     1915|\n",
      "|       8|  2008|     2000|\n",
      "|      16|  2009|     1993|\n",
      "|       3|  2007|     2004|\n",
      "|      36|  2009|     1973|\n",
      "|      77|  2008|     1931|\n",
      "|      69|  2008|     1939|\n",
      "|      43|  2008|     1965|\n",
      "|       1|  2006|     2005|\n",
      "|      46|  2008|     1962|\n",
      "|       1|  2007|     2006|\n",
      "|      48|  2008|     1960|\n",
      "|      78|  2007|     1929|\n",
      "|      40|  2010|     1970|\n",
      "|      39|  2006|     1967|\n",
      "|       4|  2008|     2004|\n",
      "|      51|  2009|     1958|\n",
      "+--------+------+---------+\n",
      "only showing top 20 rows\n",
      "\n"
     ]
    }
   ],
   "source": [
    "df = df.withColumn('HouseAge', df['YrSold'] - df['YearBuilt'])\n",
    "df[['HouseAge', 'YrSold', 'YearBuilt']].show()"
   ]
  },
  {
   "cell_type": "code",
   "execution_count": 85,
   "id": "293f1fb6-0909-440c-9761-97a9e97efaea",
   "metadata": {
    "tags": []
   },
   "outputs": [
    {
     "name": "stdout",
     "output_type": "stream",
     "text": [
      "+--------------------+-----------+-------+\n",
      "|     PercentFrontage|LotFrontage|LotArea|\n",
      "+--------------------+-----------+-------+\n",
      "|0.007692307692307693|         65|   8450|\n",
      "|0.008333333333333333|         80|   9600|\n",
      "|0.006044444444444444|         68|  11250|\n",
      "|0.006282722513089...|         60|   9550|\n",
      "|0.005890603085553997|         84|  14260|\n",
      "|0.006021962451292...|         85|  14115|\n",
      "|0.007437524791749306|         75|  10084|\n",
      "|                 0.0|          0|  10382|\n",
      "|0.008333333333333333|         51|   6120|\n",
      "|0.006738544474393531|         50|   7420|\n",
      "|             0.00625|         70|  11200|\n",
      "|0.007128480375712848|         85|  11924|\n",
      "|                 0.0|          0|  12968|\n",
      "|0.008542996620352985|         91|  10652|\n",
      "|                 0.0|          0|  10920|\n",
      "|0.008333333333333333|         51|   6120|\n",
      "|                 0.0|          0|  11241|\n",
      "|0.006672226855713094|         72|  10791|\n",
      "|0.004819277108433735|         66|  13695|\n",
      "|0.009259259259259259|         70|   7560|\n",
      "+--------------------+-----------+-------+\n",
      "only showing top 20 rows\n",
      "\n"
     ]
    }
   ],
   "source": [
    "df = df.withColumn('PercentFrontage', df['LotFrontage'] / df['LotArea'])\n",
    "df[['PercentFrontage', 'LotFrontage', 'LotArea']].show()"
   ]
  },
  {
   "cell_type": "code",
   "execution_count": 86,
   "id": "d3d85877-b894-4056-881d-189363c6b6fb",
   "metadata": {
    "tags": []
   },
   "outputs": [
    {
     "name": "stdout",
     "output_type": "stream",
     "text": [
      "+--------------------+--------------------+-----------------+\n",
      "|          ImpactView|     PercentFrontage|OverallConditions|\n",
      "+--------------------+--------------------+-----------------+\n",
      "|0.038461538461538464|0.007692307692307693|                5|\n",
      "| 0.06666666666666667|0.008333333333333333|                8|\n",
      "| 0.03022222222222222|0.006044444444444444|                5|\n",
      "|0.031413612565445025|0.006282722513089...|                5|\n",
      "|0.029453015427769985|0.005890603085553997|                5|\n",
      "|0.030109812256464752|0.006021962451292...|                5|\n",
      "| 0.03718762395874653|0.007437524791749306|                5|\n",
      "|                 0.0|                 0.0|                6|\n",
      "|0.041666666666666664|0.008333333333333333|                5|\n",
      "| 0.04043126684636119|0.006738544474393531|                6|\n",
      "|             0.03125|             0.00625|                5|\n",
      "| 0.03564240187856424|0.007128480375712848|                5|\n",
      "|                 0.0|                 0.0|                6|\n",
      "| 0.04271498310176493|0.008542996620352985|                5|\n",
      "|                 0.0|                 0.0|                5|\n",
      "| 0.06666666666666667|0.008333333333333333|                8|\n",
      "|                 0.0|                 0.0|                7|\n",
      "| 0.03336113427856547|0.006672226855713094|                5|\n",
      "|0.024096385542168676|0.004819277108433735|                5|\n",
      "| 0.05555555555555555|0.009259259259259259|                6|\n",
      "+--------------------+--------------------+-----------------+\n",
      "only showing top 20 rows\n",
      "\n"
     ]
    }
   ],
   "source": [
    "df = df.withColumn('ImpactView', df['PercentFrontage'] * df['OverallConditions'])\n",
    "df[['ImpactView', 'PercentFrontage', 'OverallConditions']].show()"
   ]
  },
  {
   "cell_type": "code",
   "execution_count": 87,
   "id": "d5fe7e6d-5e44-432b-9502-5be005c6cbcc",
   "metadata": {
    "tags": []
   },
   "outputs": [
    {
     "name": "stdout",
     "output_type": "stream",
     "text": [
      "+------------------+---------------------+---------------------+\n",
      "|     RoomsMeanSize|TotalRoomsAboveGround|AboveGroundLivingArea|\n",
      "+------------------+---------------------+---------------------+\n",
      "|            213.75|                    8|                 1710|\n",
      "|210.33333333333334|                    6|                 1262|\n",
      "| 297.6666666666667|                    6|                 1786|\n",
      "|245.28571428571428|                    7|                 1717|\n",
      "|244.22222222222223|                    9|                 2198|\n",
      "|             272.4|                    5|                 1362|\n",
      "|             242.0|                    7|                 1694|\n",
      "|298.57142857142856|                    7|                 2090|\n",
      "|            221.75|                    8|                 1774|\n",
      "|             215.4|                    5|                 1077|\n",
      "|             208.0|                    5|                 1040|\n",
      "|211.27272727272728|                   11|                 2324|\n",
      "|             228.0|                    4|                  912|\n",
      "|213.42857142857142|                    7|                 1494|\n",
      "|             250.6|                    5|                 1253|\n",
      "|             170.8|                    5|                  854|\n",
      "|             200.8|                    5|                 1004|\n",
      "|             216.0|                    6|                 1296|\n",
      "|185.66666666666666|                    6|                 1114|\n",
      "|223.16666666666666|                    6|                 1339|\n",
      "+------------------+---------------------+---------------------+\n",
      "only showing top 20 rows\n",
      "\n"
     ]
    }
   ],
   "source": [
    "df = df.withColumn('RoomsMeanSize', df['AboveGroundLivingArea'] / df['TotalRoomsAboveGround'])\n",
    "df[['RoomsMeanSize', 'TotalRoomsAboveGround', 'AboveGroundLivingArea']].show()"
   ]
  },
  {
   "cell_type": "code",
   "execution_count": 88,
   "id": "eb77f4f4-6959-4d40-8474-20b9b1b81d7a",
   "metadata": {
    "tags": []
   },
   "outputs": [
    {
     "name": "stdout",
     "output_type": "stream",
     "text": [
      "+------------+---------------------+------------+------------+\n",
      "|RegularRooms|TotalRoomsAboveGround|KitchenAbvGr|BedroomAbvGr|\n",
      "+------------+---------------------+------------+------------+\n",
      "|           4|                    8|           1|           3|\n",
      "|           2|                    6|           1|           3|\n",
      "|           2|                    6|           1|           3|\n",
      "|           3|                    7|           1|           3|\n",
      "|           4|                    9|           1|           4|\n",
      "|           3|                    5|           1|           1|\n",
      "|           3|                    7|           1|           3|\n",
      "|           3|                    7|           1|           3|\n",
      "|           4|                    8|           2|           2|\n",
      "|           1|                    5|           2|           2|\n",
      "|           1|                    5|           1|           3|\n",
      "|           6|                   11|           1|           4|\n",
      "|           1|                    4|           1|           2|\n",
      "|           3|                    7|           1|           3|\n",
      "|           2|                    5|           1|           2|\n",
      "|           2|                    5|           1|           2|\n",
      "|           2|                    5|           1|           2|\n",
      "|           2|                    6|           2|           2|\n",
      "|           2|                    6|           1|           3|\n",
      "|           2|                    6|           1|           3|\n",
      "+------------+---------------------+------------+------------+\n",
      "only showing top 20 rows\n",
      "\n"
     ]
    }
   ],
   "source": [
    "df = df.withColumn('RegularRooms', df['TotalRoomsAboveGround'] - df['KitchenAbvGr'] - df['BedroomAbvGr'])\n",
    "df[['RegularRooms', 'TotalRoomsAboveGround', 'KitchenAbvGr', 'BedroomAbvGr']].show()"
   ]
  },
  {
   "cell_type": "code",
   "execution_count": 89,
   "id": "0caa145b-28cf-49eb-ae64-3b2555e03c8d",
   "metadata": {
    "tags": []
   },
   "outputs": [
    {
     "name": "stdout",
     "output_type": "stream",
     "text": [
      "+------------------+----------+----------+\n",
      "| GarageAreaPerCars|GarageArea|GarageCars|\n",
      "+------------------+----------+----------+\n",
      "|             274.0|       548|         2|\n",
      "|             230.0|       460|         2|\n",
      "|             304.0|       608|         2|\n",
      "|             214.0|       642|         3|\n",
      "| 278.6666666666667|       836|         3|\n",
      "|             240.0|       480|         2|\n",
      "|             318.0|       636|         2|\n",
      "|             242.0|       484|         2|\n",
      "|             234.0|       468|         2|\n",
      "|             205.0|       205|         1|\n",
      "|             384.0|       384|         1|\n",
      "|245.33333333333334|       736|         3|\n",
      "|             352.0|       352|         1|\n",
      "|             280.0|       840|         3|\n",
      "|             352.0|       352|         1|\n",
      "|             288.0|       576|         2|\n",
      "|             240.0|       480|         2|\n",
      "|             258.0|       516|         2|\n",
      "|             288.0|       576|         2|\n",
      "|             294.0|       294|         1|\n",
      "+------------------+----------+----------+\n",
      "only showing top 20 rows\n",
      "\n"
     ]
    }
   ],
   "source": [
    "df = df.withColumn('GarageAreaPerCars', df['GarageArea'] / df['GarageCars'])\n",
    "df = df.fillna(subset='GarageAreaPerCars', value=0)\n",
    "df[['GarageAreaPerCars', 'GarageArea', 'GarageCars']].show()"
   ]
  },
  {
   "cell_type": "code",
   "execution_count": 90,
   "id": "9a382ff9-b804-4642-9bd6-79ff967af4f0",
   "metadata": {
    "tags": []
   },
   "outputs": [
    {
     "name": "stdout",
     "output_type": "stream",
     "text": [
      "+-----------------+----------+-------------+\n",
      "|GarageAreaQuality|GarageArea|GarageQuality|\n",
      "+-----------------+----------+-------------+\n",
      "|             1644|       548|            3|\n",
      "|             1380|       460|            3|\n",
      "|             1824|       608|            3|\n",
      "|             1926|       642|            3|\n",
      "|             2508|       836|            3|\n",
      "|             1440|       480|            3|\n",
      "|             1908|       636|            3|\n",
      "|             1452|       484|            3|\n",
      "|              936|       468|            2|\n",
      "|              820|       205|            4|\n",
      "|             1152|       384|            3|\n",
      "|             2208|       736|            3|\n",
      "|             1056|       352|            3|\n",
      "|             2520|       840|            3|\n",
      "|             1056|       352|            3|\n",
      "|             1728|       576|            3|\n",
      "|             1440|       480|            3|\n",
      "|             1548|       516|            3|\n",
      "|             1728|       576|            3|\n",
      "|              882|       294|            3|\n",
      "+-----------------+----------+-------------+\n",
      "only showing top 20 rows\n",
      "\n"
     ]
    }
   ],
   "source": [
    "df = df.withColumn('GarageAreaQuality', df['GarageArea'] * df['GarageQuality'])\n",
    "df[['GarageAreaQuality', 'GarageArea', 'GarageQuality']].show()"
   ]
  },
  {
   "cell_type": "code",
   "execution_count": 91,
   "id": "841ee5fb-55d8-4b63-ace0-e9b4b8c7b9e9",
   "metadata": {
    "tags": []
   },
   "outputs": [
    {
     "name": "stdout",
     "output_type": "stream",
     "text": [
      "+-------------------+-----------+---------------+\n",
      "|BasementAreaQuality|TotalBsmtSF|BasementQuality|\n",
      "+-------------------+-----------+---------------+\n",
      "|               3424|        856|              4|\n",
      "|               5048|       1262|              4|\n",
      "|               3680|        920|              4|\n",
      "|               2268|        756|              3|\n",
      "|               4580|       1145|              4|\n",
      "|               3184|        796|              4|\n",
      "|               8430|       1686|              5|\n",
      "|               4428|       1107|              4|\n",
      "|               2856|        952|              3|\n",
      "|               2973|        991|              3|\n",
      "|               3120|       1040|              3|\n",
      "|               5875|       1175|              5|\n",
      "|               2736|        912|              3|\n",
      "|               5976|       1494|              4|\n",
      "|               3759|       1253|              3|\n",
      "|               2496|        832|              3|\n",
      "|               3012|       1004|              3|\n",
      "|                  0|          0|              0|\n",
      "|               3342|       1114|              3|\n",
      "|               3087|       1029|              3|\n",
      "+-------------------+-----------+---------------+\n",
      "only showing top 20 rows\n",
      "\n"
     ]
    }
   ],
   "source": [
    "df = df.withColumn('BasementAreaQuality', df['TotalBsmtSF'] * df['BasementQuality'])\n",
    "df[['BasementAreaQuality', 'TotalBsmtSF', 'BasementQuality']].show()"
   ]
  },
  {
   "cell_type": "code",
   "execution_count": 92,
   "id": "6cbae0ae-9268-4fd7-9954-6d20f96c75db",
   "metadata": {
    "tags": []
   },
   "outputs": [
    {
     "name": "stdout",
     "output_type": "stream",
     "text": [
      "+-----------------+---------------------+--------------+\n",
      "|LivingAreaQuality|AboveGroundLivingArea|OverallQuality|\n",
      "+-----------------+---------------------+--------------+\n",
      "|            11970|                 1710|             7|\n",
      "|             7572|                 1262|             6|\n",
      "|            12502|                 1786|             7|\n",
      "|            12019|                 1717|             7|\n",
      "|            17584|                 2198|             8|\n",
      "|             6810|                 1362|             5|\n",
      "|            13552|                 1694|             8|\n",
      "|            14630|                 2090|             7|\n",
      "|            12418|                 1774|             7|\n",
      "|             5385|                 1077|             5|\n",
      "|             5200|                 1040|             5|\n",
      "|            20916|                 2324|             9|\n",
      "|             4560|                  912|             5|\n",
      "|            10458|                 1494|             7|\n",
      "|             7518|                 1253|             6|\n",
      "|             5978|                  854|             7|\n",
      "|             6024|                 1004|             6|\n",
      "|             5184|                 1296|             4|\n",
      "|             5570|                 1114|             5|\n",
      "|             6695|                 1339|             5|\n",
      "+-----------------+---------------------+--------------+\n",
      "only showing top 20 rows\n",
      "\n"
     ]
    }
   ],
   "source": [
    "df = df.withColumn('LivingAreaQuality', df['AboveGroundLivingArea'] * df['OverallQuality'])\n",
    "df[['LivingAreaQuality', 'AboveGroundLivingArea', 'OverallQuality']].show()"
   ]
  },
  {
   "cell_type": "code",
   "execution_count": 93,
   "id": "cbc2630f-9538-4ade-a61d-8093159e7b8f",
   "metadata": {
    "tags": []
   },
   "outputs": [
    {
     "name": "stdout",
     "output_type": "stream",
     "text": [
      "+-------------------+---------------------+-----------------+\n",
      "|LivingAreaCondition|AboveGroundLivingArea|OverallConditions|\n",
      "+-------------------+---------------------+-----------------+\n",
      "|               8550|                 1710|                5|\n",
      "|              10096|                 1262|                8|\n",
      "|               8930|                 1786|                5|\n",
      "|               8585|                 1717|                5|\n",
      "|              10990|                 2198|                5|\n",
      "|               6810|                 1362|                5|\n",
      "|               8470|                 1694|                5|\n",
      "|              12540|                 2090|                6|\n",
      "|               8870|                 1774|                5|\n",
      "|               6462|                 1077|                6|\n",
      "|               5200|                 1040|                5|\n",
      "|              11620|                 2324|                5|\n",
      "|               5472|                  912|                6|\n",
      "|               7470|                 1494|                5|\n",
      "|               6265|                 1253|                5|\n",
      "|               6832|                  854|                8|\n",
      "|               7028|                 1004|                7|\n",
      "|               6480|                 1296|                5|\n",
      "|               5570|                 1114|                5|\n",
      "|               8034|                 1339|                6|\n",
      "+-------------------+---------------------+-----------------+\n",
      "only showing top 20 rows\n",
      "\n"
     ]
    }
   ],
   "source": [
    "df = df.withColumn('LivingAreaCondition', df['AboveGroundLivingArea'] * df['OverallConditions'])\n",
    "df[['LivingAreaCondition', 'AboveGroundLivingArea', 'OverallConditions']].show()"
   ]
  },
  {
   "cell_type": "code",
   "execution_count": 94,
   "id": "e7a8abdf-3785-44f2-b9f6-c31e8e5e1f87",
   "metadata": {
    "tags": []
   },
   "outputs": [
    {
     "name": "stdout",
     "output_type": "stream",
     "text": [
      "+---------------------+-----------+-----------------+\n",
      "|BasementAreaCondition|TotalBsmtSF|BasementCondition|\n",
      "+---------------------+-----------+-----------------+\n",
      "|                 2568|        856|                3|\n",
      "|                 3786|       1262|                3|\n",
      "|                 2760|        920|                3|\n",
      "|                 3024|        756|                4|\n",
      "|                 3435|       1145|                3|\n",
      "|                 2388|        796|                3|\n",
      "|                 5058|       1686|                3|\n",
      "|                 3321|       1107|                3|\n",
      "|                 2856|        952|                3|\n",
      "|                 2973|        991|                3|\n",
      "|                 3120|       1040|                3|\n",
      "|                 3525|       1175|                3|\n",
      "|                 2736|        912|                3|\n",
      "|                 4482|       1494|                3|\n",
      "|                 3759|       1253|                3|\n",
      "|                 2496|        832|                3|\n",
      "|                 3012|       1004|                3|\n",
      "|                    0|          0|                0|\n",
      "|                 3342|       1114|                3|\n",
      "|                 3087|       1029|                3|\n",
      "+---------------------+-----------+-----------------+\n",
      "only showing top 20 rows\n",
      "\n"
     ]
    }
   ],
   "source": [
    "df = df.withColumn('BasementAreaCondition', df['TotalBsmtSF'] * df['BasementCondition'])\n",
    "df[['BasementAreaCondition', 'TotalBsmtSF', 'BasementCondition']].show()"
   ]
  },
  {
   "cell_type": "code",
   "execution_count": 95,
   "id": "158df868-f2ad-4062-8180-bdabc01f835f",
   "metadata": {
    "tags": []
   },
   "outputs": [
    {
     "name": "stdout",
     "output_type": "stream",
     "text": [
      "+-------------------+----------+---------------+\n",
      "|GarageAreaCondition|GarageArea|GarageCondition|\n",
      "+-------------------+----------+---------------+\n",
      "|               1644|       548|              3|\n",
      "|               1380|       460|              3|\n",
      "|               1824|       608|              3|\n",
      "|               1926|       642|              3|\n",
      "|               2508|       836|              3|\n",
      "|               1440|       480|              3|\n",
      "|               1908|       636|              3|\n",
      "|               1452|       484|              3|\n",
      "|               1404|       468|              3|\n",
      "|                615|       205|              3|\n",
      "|               1152|       384|              3|\n",
      "|               2208|       736|              3|\n",
      "|               1056|       352|              3|\n",
      "|               2520|       840|              3|\n",
      "|               1056|       352|              3|\n",
      "|               1728|       576|              3|\n",
      "|               1440|       480|              3|\n",
      "|               1548|       516|              3|\n",
      "|               1728|       576|              3|\n",
      "|                882|       294|              3|\n",
      "+-------------------+----------+---------------+\n",
      "only showing top 20 rows\n",
      "\n"
     ]
    }
   ],
   "source": [
    "df = df.withColumn('GarageAreaCondition', df['GarageArea'] * df['GarageCondition'])\n",
    "df[['GarageAreaCondition', 'GarageArea', 'GarageCondition']].show()"
   ]
  },
  {
   "cell_type": "code",
   "execution_count": 97,
   "id": "74e4ac40-5fa7-45d5-a640-cb71a9cdcb93",
   "metadata": {
    "tags": []
   },
   "outputs": [
    {
     "name": "stdout",
     "output_type": "stream",
     "text": [
      "-RECORD 0------------------------\n",
      " IsDuplex                  | 0   \n",
      " SoldAfterRemodel          | 0   \n",
      " RemodelAge                | 0   \n",
      " FireplacesLivingAreaRatio | 0   \n",
      " BedroomsBathroomsRatio    | 0   \n",
      " HouseAge                  | 0   \n",
      " PercentFrontage           | 0   \n",
      " ImpactView                | 0   \n",
      " RoomsMeanSize             | 0   \n",
      " RegularRooms              | 0   \n",
      " GarageAreaPerCars         | 0   \n",
      " GarageAreaQuality         | 0   \n",
      " BasementAreaQuality       | 0   \n",
      " LivingAreaQuality         | 0   \n",
      " LivingAreaCondition       | 0   \n",
      " BasementAreaCondition     | 0   \n",
      " GarageAreaCondition       | 0   \n",
      "\n"
     ]
    }
   ],
   "source": [
    "df.select([func.count(func.when(df[c].isNull() | func.isnan(df[c]), c)).alias(c) for c in df.columns[-17:]]).show(vertical=True)"
   ]
  },
  {
   "cell_type": "code",
   "execution_count": 98,
   "id": "26323897-7e13-433b-9ecf-5f3858061ca9",
   "metadata": {
    "tags": []
   },
   "outputs": [],
   "source": [
    "df.write.csv(path='data/house_data', header=True, mode='overwrite')"
   ]
  },
  {
   "cell_type": "code",
   "execution_count": null,
   "id": "07c9a97f-d88f-41c5-8588-55fd1e01d92e",
   "metadata": {},
   "outputs": [],
   "source": []
  }
 ],
 "metadata": {
  "kernelspec": {
   "display_name": "Python 3 (ipykernel)",
   "language": "python",
   "name": "python3"
  },
  "language_info": {
   "codemirror_mode": {
    "name": "ipython",
    "version": 3
   },
   "file_extension": ".py",
   "mimetype": "text/x-python",
   "name": "python",
   "nbconvert_exporter": "python",
   "pygments_lexer": "ipython3",
   "version": "3.11.3"
  }
 },
 "nbformat": 4,
 "nbformat_minor": 5
}
